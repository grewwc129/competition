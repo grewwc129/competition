{
 "cells": [
  {
   "cell_type": "code",
   "execution_count": 1,
   "metadata": {},
   "outputs": [
    {
     "name": "stderr",
     "output_type": "stream",
     "text": [
      "Using TensorFlow backend.\n"
     ]
    }
   ],
   "source": [
    "import keras \n",
    "import tensorflow as tf \n",
    "from keras.models import *\n",
    "from keras.layers import * \n",
    "import keras.backend as K \n",
    "\n",
    "%load_ext autoreload\n",
    "%autoreload 2"
   ]
  },
  {
   "cell_type": "code",
   "execution_count": 2,
   "metadata": {},
   "outputs": [],
   "source": [
    "from scripts.data_utils import *\n",
    "from scripts.nn_resnet import *\n",
    "from scripts.config import config \n",
    "from scripts.general_utils import* \n",
    "from scripts.assessment import *\n",
    "from scripts.maths import *\n",
    "import matplotlib.pyplot as plt \n",
    "\n",
    "import gc \n",
    "fname = 'update_new_columns_trains_sets.csv'"
   ]
  },
  {
   "cell_type": "code",
   "execution_count": 3,
   "metadata": {},
   "outputs": [
    {
     "name": "stderr",
     "output_type": "stream",
     "text": [
      "WARNING: Logging before flag parsing goes to stderr.\n",
      "W0305 21:09:52.815852  8556 deprecation_wrapper.py:119] From C:\\Users\\User\\AppData\\Roaming\\Python\\Python36\\site-packages\\keras\\backend\\tensorflow_backend.py:517: The name tf.placeholder is deprecated. Please use tf.compat.v1.placeholder instead.\n",
      "\n",
      "W0305 21:09:52.862352  8556 deprecation_wrapper.py:119] From C:\\Users\\User\\AppData\\Roaming\\Python\\Python36\\site-packages\\keras\\backend\\tensorflow_backend.py:4185: The name tf.truncated_normal is deprecated. Please use tf.random.truncated_normal instead.\n",
      "\n",
      "W0305 21:09:52.934976  8556 deprecation_wrapper.py:119] From C:\\Users\\User\\AppData\\Roaming\\Python\\Python36\\site-packages\\keras\\backend\\tensorflow_backend.py:131: The name tf.get_default_graph is deprecated. Please use tf.compat.v1.get_default_graph instead.\n",
      "\n",
      "W0305 21:09:52.934976  8556 deprecation_wrapper.py:119] From C:\\Users\\User\\AppData\\Roaming\\Python\\Python36\\site-packages\\keras\\backend\\tensorflow_backend.py:133: The name tf.placeholder_with_default is deprecated. Please use tf.compat.v1.placeholder_with_default instead.\n",
      "\n",
      "W0305 21:09:52.967987  8556 deprecation_wrapper.py:119] From C:\\Users\\User\\AppData\\Roaming\\Python\\Python36\\site-packages\\keras\\backend\\tensorflow_backend.py:3976: The name tf.nn.max_pool is deprecated. Please use tf.nn.max_pool2d instead.\n",
      "\n",
      "W0305 21:09:57.064165  8556 deprecation_wrapper.py:119] From C:\\Users\\User\\AppData\\Roaming\\Python\\Python36\\site-packages\\keras\\backend\\tensorflow_backend.py:4138: The name tf.random_uniform is deprecated. Please use tf.random.uniform instead.\n",
      "\n",
      "W0305 21:10:04.582187  8556 deprecation_wrapper.py:119] From C:\\Users\\User\\AppData\\Roaming\\Python\\Python36\\site-packages\\keras\\optimizers.py:790: The name tf.train.Optimizer is deprecated. Please use tf.compat.v1.train.Optimizer instead.\n",
      "\n",
      "W0305 21:10:05.252958  8556 deprecation.py:323] From c:\\users\\user\\appdata\\local\\programs\\python\\python36\\lib\\site-packages\\tensorflow\\python\\ops\\math_grad.py:1250: add_dispatch_support.<locals>.wrapper (from tensorflow.python.ops.array_ops) is deprecated and will be removed in a future version.\n",
      "Instructions for updating:\n",
      "Use tf.where in 2.0, which has the same broadcast rule as np.where\n"
     ]
    }
   ],
   "source": [
    "model = load_model(\"C:/Users/User/Desktop/temp.h5\")"
   ]
  },
  {
   "cell_type": "code",
   "execution_count": 57,
   "metadata": {},
   "outputs": [],
   "source": [
    "# model.summary()"
   ]
  },
  {
   "cell_type": "code",
   "execution_count": 125,
   "metadata": {},
   "outputs": [],
   "source": [
    "# model = resnet(3, (config.num_bins, 1))\n",
    "# model = load_model(\"C:/Users/User/Desktop/tri_temp_1.h5\")"
   ]
  },
  {
   "cell_type": "code",
   "execution_count": 4,
   "metadata": {},
   "outputs": [
    {
     "data": {
      "text/plain": [
       "8e-06"
      ]
     },
     "execution_count": 4,
     "metadata": {},
     "output_type": "execute_result"
    }
   ],
   "source": [
    "set_lr(model, 0.8e-5)\n",
    "K.eval(model.optimizer.lr)"
   ]
  },
  {
   "cell_type": "code",
   "execution_count": 5,
   "metadata": {},
   "outputs": [
    {
     "data": {
      "text/plain": [
       "4"
      ]
     },
     "execution_count": 5,
     "metadata": {},
     "output_type": "execute_result"
    }
   ],
   "source": [
    "gc.collect()"
   ]
  },
  {
   "cell_type": "code",
   "execution_count": 6,
   "metadata": {},
   "outputs": [],
   "source": [
    "train_x, train_y = load_training()"
   ]
  },
  {
   "cell_type": "code",
   "execution_count": 7,
   "metadata": {},
   "outputs": [
    {
     "data": {
      "text/plain": [
       "((573417, 400, 1), (573417,))"
      ]
     },
     "execution_count": 7,
     "metadata": {},
     "output_type": "execute_result"
    }
   ],
   "source": [
    "train_x.shape, train_y.shape"
   ]
  },
  {
   "cell_type": "code",
   "execution_count": null,
   "metadata": {
    "scrolled": true
   },
   "outputs": [
    {
     "name": "stdout",
     "output_type": "stream",
     "text": [
      "Epoch 1/5\n",
      "171392/573417 [=======>......................] - ETA: 21:25 - loss: 0.0241 - acc: 0.9952"
     ]
    }
   ],
   "source": [
    "model.fit(train_x, train_y, epochs=5)"
   ]
  },
  {
   "cell_type": "code",
   "execution_count": null,
   "metadata": {},
   "outputs": [],
   "source": [
    "# train()"
   ]
  },
  {
   "cell_type": "code",
   "execution_count": 134,
   "metadata": {},
   "outputs": [],
   "source": [
    "model.save('C:/Users/User/Desktop/temp.h5', overwrite=1)"
   ]
  },
  {
   "cell_type": "code",
   "execution_count": 11,
   "metadata": {},
   "outputs": [
    {
     "name": "stderr",
     "output_type": "stream",
     "text": [
      "W0214 19:27:09.203066 16168 deprecation.py:323] From c:\\users\\user\\appdata\\local\\programs\\python\\python36\\lib\\site-packages\\tensorflow\\python\\ops\\math_grad.py:1250: add_dispatch_support.<locals>.wrapper (from tensorflow.python.ops.array_ops) is deprecated and will be removed in a future version.\n",
      "Instructions for updating:\n",
      "Use tf.where in 2.0, which has the same broadcast rule as np.where\n"
     ]
    }
   ],
   "source": [
    "# model = load_model(\"C:/Users/User/Desktop/resNet.h5\")"
   ]
  },
  {
   "cell_type": "code",
   "execution_count": 4,
   "metadata": {},
   "outputs": [],
   "source": [
    "val_name = \"C:/Users/User/Desktop/go_download/val_sets_v1.csv\""
   ]
  },
  {
   "cell_type": "code",
   "execution_count": 5,
   "metadata": {},
   "outputs": [],
   "source": [
    "val_df = pd.read_csv(val_name)"
   ]
  },
  {
   "cell_type": "code",
   "execution_count": 6,
   "metadata": {},
   "outputs": [],
   "source": [
    "val_y_name = \"C:/Users/User/Desktop/go_download/val_labels_v1.csv\"\n",
    "val_df_y = pd.read_csv(val_y_name)\n",
    "val_df_x = val_df"
   ]
  },
  {
   "cell_type": "code",
   "execution_count": 38,
   "metadata": {},
   "outputs": [],
   "source": [
    "vx = val_df_x\n",
    "vy = val_df_y"
   ]
  },
  {
   "cell_type": "code",
   "execution_count": 39,
   "metadata": {},
   "outputs": [],
   "source": [
    "vx = vx.iloc[:, :-1].values"
   ]
  },
  {
   "cell_type": "code",
   "execution_count": 40,
   "metadata": {},
   "outputs": [],
   "source": [
    "vy = vy['label'].values\n",
    "vy = encode_names(vy)"
   ]
  },
  {
   "cell_type": "code",
   "execution_count": 130,
   "metadata": {},
   "outputs": [
    {
     "data": {
      "text/plain": [
       "411"
      ]
     },
     "execution_count": 130,
     "metadata": {},
     "output_type": "execute_result"
    }
   ],
   "source": [
    "import gc \n",
    "gc.collect()"
   ]
  },
  {
   "cell_type": "code",
   "execution_count": 42,
   "metadata": {},
   "outputs": [
    {
     "name": "stdout",
     "output_type": "stream",
     "text": [
      "prev 190624\n"
     ]
    }
   ],
   "source": [
    "vx = vx[:, 50:-1]\n",
    "\n",
    "################\n",
    "print(\"prev\", len(vx))\n",
    "# vx, vy = find_bad(vx, vy)\n",
    "vx = remove_badpoints_and_normalize(vx)\n",
    "# print(\"after\", len(vx))\n",
    "\n",
    "#################\n",
    "\n",
    "\n",
    "vx = average_bin_faster(vx, 400)\n",
    "vx = vx.reshape(*vx.shape, 1)\n"
   ]
  },
  {
   "cell_type": "code",
   "execution_count": 139,
   "metadata": {},
   "outputs": [
    {
     "name": "stdout",
     "output_type": "stream",
     "text": [
      "finished loading\n"
     ]
    }
   ],
   "source": [
    "# model = load_model(\"C:/Users/User/Desktop/temp_400bins_3.h5\")\n",
    "print(\"finished loading\")\n",
    "v_pred = model.predict(vx)"
   ]
  },
  {
   "cell_type": "code",
   "execution_count": 140,
   "metadata": {},
   "outputs": [
    {
     "data": {
      "text/plain": [
       "0.994250461641766"
      ]
     },
     "execution_count": 140,
     "metadata": {},
     "output_type": "execute_result"
    }
   ],
   "source": [
    "get_precision(vy, v_pred)"
   ]
  },
  {
   "cell_type": "code",
   "execution_count": 141,
   "metadata": {},
   "outputs": [
    {
     "data": {
      "text/plain": [
       "0.9777334698876733"
      ]
     },
     "execution_count": 141,
     "metadata": {},
     "output_type": "execute_result"
    }
   ],
   "source": [
    "f1(vy, v_pred)"
   ]
  },
  {
   "cell_type": "code",
   "execution_count": 52,
   "metadata": {},
   "outputs": [],
   "source": [
    "b_model = load_model('best_qso.h5')"
   ]
  },
  {
   "cell_type": "code",
   "execution_count": 53,
   "metadata": {},
   "outputs": [],
   "source": [
    "v_qso = b_model.predict(vx)"
   ]
  },
  {
   "cell_type": "code",
   "execution_count": 55,
   "metadata": {},
   "outputs": [],
   "source": [
    "v_qso_cls = np.argmax(v_qso, axis=1)"
   ]
  },
  {
   "cell_type": "code",
   "execution_count": 70,
   "metadata": {},
   "outputs": [],
   "source": [
    "v_pred_cls = np.argmax(v_pred, axis=1)"
   ]
  },
  {
   "cell_type": "code",
   "execution_count": 71,
   "metadata": {},
   "outputs": [],
   "source": [
    "# v_pred_cls = np.where(v_qso_cls==1, config.class_label['qso'], v_pred_cls)\n",
    "v_pred_cls[v_qso_cls==1] = config.class_label['qso']"
   ]
  },
  {
   "cell_type": "code",
   "execution_count": 72,
   "metadata": {},
   "outputs": [
    {
     "data": {
      "text/plain": [
       "0.9886205051257568"
      ]
     },
     "execution_count": 72,
     "metadata": {},
     "output_type": "execute_result"
    }
   ],
   "source": [
    "sum(vy==v_pred_cls) / len(vy)"
   ]
  },
  {
   "cell_type": "code",
   "execution_count": null,
   "metadata": {},
   "outputs": [],
   "source": []
  },
  {
   "cell_type": "code",
   "execution_count": 34,
   "metadata": {},
   "outputs": [],
   "source": [
    "# check the train data"
   ]
  },
  {
   "cell_type": "code",
   "execution_count": 76,
   "metadata": {},
   "outputs": [],
   "source": [
    "test = pd.read_csv(fname, nrows=5000, low_memory=0)"
   ]
  },
  {
   "cell_type": "code",
   "execution_count": 77,
   "metadata": {},
   "outputs": [],
   "source": [
    "test_x = test.iloc[:, :-2]\n",
    "test_y = test['answer']\n",
    "test_y = test_y.apply(lambda name: config.class_label[name])"
   ]
  },
  {
   "cell_type": "code",
   "execution_count": 78,
   "metadata": {},
   "outputs": [],
   "source": [
    "test_x = test_x.values\n"
   ]
  },
  {
   "cell_type": "code",
   "execution_count": 79,
   "metadata": {},
   "outputs": [
    {
     "data": {
      "text/plain": [
       "((5000, 2600), (5000,))"
      ]
     },
     "execution_count": 79,
     "metadata": {},
     "output_type": "execute_result"
    }
   ],
   "source": [
    "test_x.shape, test_y.shape"
   ]
  },
  {
   "cell_type": "code",
   "execution_count": 80,
   "metadata": {},
   "outputs": [],
   "source": [
    "test_x = test_x[:, 50:-1]\n",
    "# test_x = remove_badpoints_and_normalize(test_x)\n",
    "# test_x, test_y = find_bad(test_x, test_y)\n",
    "test_x = average_bin_faster(test_x, 400)\n",
    "test_x = test_x.reshape(*test_x.shape, 1)"
   ]
  },
  {
   "cell_type": "code",
   "execution_count": 136,
   "metadata": {},
   "outputs": [
    {
     "name": "stdout",
     "output_type": "stream",
     "text": [
      "5000/5000 [==============================] - 125s 25ms/step\n"
     ]
    },
    {
     "data": {
      "text/plain": [
       "[0.023791613002866505, 0.9952]"
      ]
     },
     "execution_count": 136,
     "metadata": {},
     "output_type": "execute_result"
    }
   ],
   "source": [
    "model.evaluate(test_x, test_y)"
   ]
  },
  {
   "cell_type": "code",
   "execution_count": 277,
   "metadata": {},
   "outputs": [],
   "source": [
    "# for submission "
   ]
  },
  {
   "cell_type": "code",
   "execution_count": 142,
   "metadata": {},
   "outputs": [],
   "source": [
    "v_pred_cls = np.argmax(v_pred, axis=1)"
   ]
  },
  {
   "cell_type": "code",
   "execution_count": 143,
   "metadata": {},
   "outputs": [],
   "source": [
    "val_df_y['pred_cls'] = v_pred_cls"
   ]
  },
  {
   "cell_type": "code",
   "execution_count": 144,
   "metadata": {},
   "outputs": [
    {
     "data": {
      "text/plain": [
       "190624"
      ]
     },
     "execution_count": 144,
     "metadata": {},
     "output_type": "execute_result"
    }
   ],
   "source": [
    "len(val_df_y)"
   ]
  },
  {
   "cell_type": "code",
   "execution_count": 145,
   "metadata": {},
   "outputs": [],
   "source": [
    "def cls_to_name(cls):\n",
    "    if cls == 0:\n",
    "        return 'star'\n",
    "    if cls == 1:\n",
    "        return 'galaxy'\n",
    "    return 'qso'"
   ]
  },
  {
   "cell_type": "code",
   "execution_count": 146,
   "metadata": {},
   "outputs": [],
   "source": [
    "val_df_y['pred_cls'] = val_df_y['pred_cls'].apply(cls_to_name)"
   ]
  },
  {
   "cell_type": "code",
   "execution_count": 147,
   "metadata": {},
   "outputs": [
    {
     "data": {
      "text/plain": [
       "1096"
      ]
     },
     "execution_count": 147,
     "metadata": {},
     "output_type": "execute_result"
    }
   ],
   "source": [
    "len(val_df_y[val_df_y['label']!=val_df_y['pred_cls']])"
   ]
  },
  {
   "cell_type": "code",
   "execution_count": 148,
   "metadata": {},
   "outputs": [
    {
     "data": {
      "text/plain": [
       "(1096, 189528)"
      ]
     },
     "execution_count": 148,
     "metadata": {},
     "output_type": "execute_result"
    }
   ],
   "source": [
    "diff = val_df_y[val_df_y['pred_cls'] != val_df_y['label']]\n",
    "same = val_df_y[val_df_y['pred_cls'] == val_df_y['label']]\n",
    "len(diff), len(same)"
   ]
  },
  {
   "cell_type": "code",
   "execution_count": 149,
   "metadata": {},
   "outputs": [],
   "source": [
    "val_df['pred'] = val_df_y['pred_cls']\n",
    "val_df['label'] = val_df_y['label']"
   ]
  },
  {
   "cell_type": "code",
   "execution_count": 150,
   "metadata": {},
   "outputs": [],
   "source": [
    "diff_spectrum = val_df.loc[val_df['id'].isin(diff['id'])]\n",
    "same_spectrum = val_df.loc[val_df['id'].isin(same['id'])]\n",
    "\n",
    "diff_spectrum = diff_spectrum.drop('id', axis=1)\n",
    "same_spectrum = same_spectrum.drop('id', axis=1)"
   ]
  },
  {
   "cell_type": "code",
   "execution_count": 31,
   "metadata": {},
   "outputs": [
    {
     "data": {
      "text/plain": [
       "(1379, 189245)"
      ]
     },
     "execution_count": 31,
     "metadata": {},
     "output_type": "execute_result"
    }
   ],
   "source": [
    "len(diff_spectrum), len(same_spectrum)"
   ]
  },
  {
   "cell_type": "code",
   "execution_count": 35,
   "metadata": {},
   "outputs": [],
   "source": [
    "same_spectrum_star = same_spectrum[same_spectrum['label']=='star']\n",
    "same_spectrum_gal = same_spectrum[same_spectrum['label']=='galaxy']\n",
    "same_spectrum_qso = same_spectrum[same_spectrum['label']=='qso']"
   ]
  },
  {
   "cell_type": "code",
   "execution_count": 40,
   "metadata": {},
   "outputs": [],
   "source": [
    "res = pd.concat([same_spectrum_star.iloc[:100,:], same_spectrum_gal.iloc[:100,:], \n",
    "                 same_spectrum_qso.iloc[:100,:]])"
   ]
  },
  {
   "cell_type": "code",
   "execution_count": null,
   "metadata": {},
   "outputs": [],
   "source": []
  },
  {
   "cell_type": "code",
   "execution_count": 59,
   "metadata": {},
   "outputs": [],
   "source": [
    "diff_spectrum.to_csv(\"C:/Users/User/Desktop/temp/predict_wrong_spectral.csv\", index=False)"
   ]
  },
  {
   "cell_type": "code",
   "execution_count": 47,
   "metadata": {},
   "outputs": [],
   "source": [
    "res.to_csv(\"C:/Users/User/Desktop/temp/predict_right_spectral.csv\", index=False)"
   ]
  },
  {
   "cell_type": "code",
   "execution_count": 58,
   "metadata": {},
   "outputs": [
    {
     "data": {
      "text/html": [
       "<div>\n",
       "<style scoped>\n",
       "    .dataframe tbody tr th:only-of-type {\n",
       "        vertical-align: middle;\n",
       "    }\n",
       "\n",
       "    .dataframe tbody tr th {\n",
       "        vertical-align: top;\n",
       "    }\n",
       "\n",
       "    .dataframe thead th {\n",
       "        text-align: right;\n",
       "    }\n",
       "</style>\n",
       "<table border=\"1\" class=\"dataframe\">\n",
       "  <thead>\n",
       "    <tr style=\"text-align: right;\">\n",
       "      <th></th>\n",
       "      <th>FE0</th>\n",
       "      <th>FE1</th>\n",
       "      <th>FE2</th>\n",
       "      <th>FE3</th>\n",
       "      <th>FE4</th>\n",
       "      <th>FE5</th>\n",
       "      <th>FE6</th>\n",
       "      <th>FE7</th>\n",
       "      <th>FE8</th>\n",
       "      <th>FE9</th>\n",
       "      <th>...</th>\n",
       "      <th>FE2592</th>\n",
       "      <th>FE2593</th>\n",
       "      <th>FE2594</th>\n",
       "      <th>FE2595</th>\n",
       "      <th>FE2596</th>\n",
       "      <th>FE2597</th>\n",
       "      <th>FE2598</th>\n",
       "      <th>FE2599</th>\n",
       "      <th>pred</th>\n",
       "      <th>label</th>\n",
       "    </tr>\n",
       "  </thead>\n",
       "  <tbody>\n",
       "    <tr>\n",
       "      <th>399</th>\n",
       "      <td>20.539032</td>\n",
       "      <td>-11.496449</td>\n",
       "      <td>20.704480</td>\n",
       "      <td>10.320412</td>\n",
       "      <td>24.132203</td>\n",
       "      <td>-5.339583</td>\n",
       "      <td>18.627630</td>\n",
       "      <td>3.959894</td>\n",
       "      <td>64.945979</td>\n",
       "      <td>9.173379</td>\n",
       "      <td>...</td>\n",
       "      <td>37.511490</td>\n",
       "      <td>34.740448</td>\n",
       "      <td>39.744783</td>\n",
       "      <td>43.466447</td>\n",
       "      <td>36.557037</td>\n",
       "      <td>29.749146</td>\n",
       "      <td>29.873103</td>\n",
       "      <td>28.686555</td>\n",
       "      <td>star</td>\n",
       "      <td>galaxy</td>\n",
       "    </tr>\n",
       "    <tr>\n",
       "      <th>515</th>\n",
       "      <td>4.080163</td>\n",
       "      <td>5.964849</td>\n",
       "      <td>11.200888</td>\n",
       "      <td>-9.123729</td>\n",
       "      <td>-16.047049</td>\n",
       "      <td>-2.116285</td>\n",
       "      <td>11.063445</td>\n",
       "      <td>0.660645</td>\n",
       "      <td>10.570564</td>\n",
       "      <td>16.589804</td>\n",
       "      <td>...</td>\n",
       "      <td>5.467748</td>\n",
       "      <td>6.397606</td>\n",
       "      <td>6.230656</td>\n",
       "      <td>6.257501</td>\n",
       "      <td>5.404189</td>\n",
       "      <td>4.980243</td>\n",
       "      <td>5.226400</td>\n",
       "      <td>5.350140</td>\n",
       "      <td>star</td>\n",
       "      <td>galaxy</td>\n",
       "    </tr>\n",
       "    <tr>\n",
       "      <th>585</th>\n",
       "      <td>-279.087973</td>\n",
       "      <td>-47.678342</td>\n",
       "      <td>-5.105812</td>\n",
       "      <td>198.935923</td>\n",
       "      <td>-151.138377</td>\n",
       "      <td>-36.066876</td>\n",
       "      <td>109.816511</td>\n",
       "      <td>69.809897</td>\n",
       "      <td>91.818532</td>\n",
       "      <td>-236.827852</td>\n",
       "      <td>...</td>\n",
       "      <td>174.588257</td>\n",
       "      <td>120.880636</td>\n",
       "      <td>87.382189</td>\n",
       "      <td>167.457078</td>\n",
       "      <td>185.419524</td>\n",
       "      <td>139.296300</td>\n",
       "      <td>121.636615</td>\n",
       "      <td>100.354468</td>\n",
       "      <td>star</td>\n",
       "      <td>galaxy</td>\n",
       "    </tr>\n",
       "    <tr>\n",
       "      <th>743</th>\n",
       "      <td>2.146430</td>\n",
       "      <td>2.414457</td>\n",
       "      <td>3.285812</td>\n",
       "      <td>0.763399</td>\n",
       "      <td>1.679500</td>\n",
       "      <td>2.431333</td>\n",
       "      <td>-0.577207</td>\n",
       "      <td>2.332459</td>\n",
       "      <td>0.348145</td>\n",
       "      <td>2.006564</td>\n",
       "      <td>...</td>\n",
       "      <td>9.447075</td>\n",
       "      <td>9.702508</td>\n",
       "      <td>9.957942</td>\n",
       "      <td>10.213376</td>\n",
       "      <td>10.468810</td>\n",
       "      <td>10.724243</td>\n",
       "      <td>10.979677</td>\n",
       "      <td>11.235111</td>\n",
       "      <td>qso</td>\n",
       "      <td>galaxy</td>\n",
       "    </tr>\n",
       "    <tr>\n",
       "      <th>824</th>\n",
       "      <td>72.963981</td>\n",
       "      <td>51.649080</td>\n",
       "      <td>56.697270</td>\n",
       "      <td>74.403605</td>\n",
       "      <td>48.042003</td>\n",
       "      <td>87.167193</td>\n",
       "      <td>85.622775</td>\n",
       "      <td>0.637782</td>\n",
       "      <td>106.732244</td>\n",
       "      <td>-21.642268</td>\n",
       "      <td>...</td>\n",
       "      <td>59.193337</td>\n",
       "      <td>55.195674</td>\n",
       "      <td>52.769990</td>\n",
       "      <td>53.114714</td>\n",
       "      <td>53.977462</td>\n",
       "      <td>54.031909</td>\n",
       "      <td>53.538296</td>\n",
       "      <td>56.745403</td>\n",
       "      <td>star</td>\n",
       "      <td>galaxy</td>\n",
       "    </tr>\n",
       "  </tbody>\n",
       "</table>\n",
       "<p>5 rows × 2602 columns</p>\n",
       "</div>"
      ],
      "text/plain": [
       "            FE0        FE1        FE2         FE3         FE4        FE5  \\\n",
       "399   20.539032 -11.496449  20.704480   10.320412   24.132203  -5.339583   \n",
       "515    4.080163   5.964849  11.200888   -9.123729  -16.047049  -2.116285   \n",
       "585 -279.087973 -47.678342  -5.105812  198.935923 -151.138377 -36.066876   \n",
       "743    2.146430   2.414457   3.285812    0.763399    1.679500   2.431333   \n",
       "824   72.963981  51.649080  56.697270   74.403605   48.042003  87.167193   \n",
       "\n",
       "            FE6        FE7         FE8         FE9  ...      FE2592  \\\n",
       "399   18.627630   3.959894   64.945979    9.173379  ...   37.511490   \n",
       "515   11.063445   0.660645   10.570564   16.589804  ...    5.467748   \n",
       "585  109.816511  69.809897   91.818532 -236.827852  ...  174.588257   \n",
       "743   -0.577207   2.332459    0.348145    2.006564  ...    9.447075   \n",
       "824   85.622775   0.637782  106.732244  -21.642268  ...   59.193337   \n",
       "\n",
       "         FE2593     FE2594      FE2595      FE2596      FE2597      FE2598  \\\n",
       "399   34.740448  39.744783   43.466447   36.557037   29.749146   29.873103   \n",
       "515    6.397606   6.230656    6.257501    5.404189    4.980243    5.226400   \n",
       "585  120.880636  87.382189  167.457078  185.419524  139.296300  121.636615   \n",
       "743    9.702508   9.957942   10.213376   10.468810   10.724243   10.979677   \n",
       "824   55.195674  52.769990   53.114714   53.977462   54.031909   53.538296   \n",
       "\n",
       "         FE2599  pred   label  \n",
       "399   28.686555  star  galaxy  \n",
       "515    5.350140  star  galaxy  \n",
       "585  100.354468  star  galaxy  \n",
       "743   11.235111   qso  galaxy  \n",
       "824   56.745403  star  galaxy  \n",
       "\n",
       "[5 rows x 2602 columns]"
      ]
     },
     "execution_count": 58,
     "metadata": {},
     "output_type": "execute_result"
    }
   ],
   "source": [
    "diff_spectrum.head()"
   ]
  },
  {
   "cell_type": "code",
   "execution_count": 151,
   "metadata": {},
   "outputs": [],
   "source": [
    "val_df_y['label'] = val_df_y['pred_cls']"
   ]
  },
  {
   "cell_type": "code",
   "execution_count": 152,
   "metadata": {},
   "outputs": [],
   "source": [
    "val_df_y = val_df_y[['id','label']]"
   ]
  },
  {
   "cell_type": "code",
   "execution_count": 153,
   "metadata": {},
   "outputs": [
    {
     "data": {
      "text/plain": [
       "190624"
      ]
     },
     "execution_count": 153,
     "metadata": {},
     "output_type": "execute_result"
    }
   ],
   "source": [
    "len(val_df_y)"
   ]
  },
  {
   "cell_type": "code",
   "execution_count": 154,
   "metadata": {},
   "outputs": [],
   "source": [
    "val_df_y.to_csv(\"C:/Users/User/Desktop/go_download/submit_5.csv\", index=False)"
   ]
  },
  {
   "cell_type": "code",
   "execution_count": null,
   "metadata": {},
   "outputs": [],
   "source": []
  },
  {
   "cell_type": "code",
   "execution_count": 162,
   "metadata": {},
   "outputs": [
    {
     "name": "stderr",
     "output_type": "stream",
     "text": [
      "c:\\users\\user\\appdata\\local\\programs\\python\\python36\\lib\\site-packages\\IPython\\core\\interactiveshell.py:3058: DtypeWarning: Columns (0,1,2,3,4,5,6,7,8,9,10,11,12,13,14,15,16,17,18,19,20,21,22,23,24,25,26,27,28,29,30,31,32,33,34,35,36,37,38,39,40,41,42,43,44,45,46,47,48,49) have mixed types. Specify dtype option on import or set low_memory=False.\n",
      "  interactivity=interactivity, compiler=compiler, result=result)\n"
     ]
    }
   ],
   "source": [
    "t = pd.read_csv(fname, usecols=list(range(50)))"
   ]
  },
  {
   "cell_type": "code",
   "execution_count": 174,
   "metadata": {},
   "outputs": [],
   "source": [
    "t = drop_non_numeric(t)"
   ]
  },
  {
   "cell_type": "code",
   "execution_count": null,
   "metadata": {},
   "outputs": [
    {
     "name": "stderr",
     "output_type": "stream",
     "text": [
      "Exception ignored in: <bound method BaseSession._Callable.__del__ of <tensorflow.python.client.session.BaseSession._Callable object at 0x000001F1A8C99748>>\n",
      "Traceback (most recent call last):\n",
      "  File \"c:\\users\\user\\appdata\\local\\programs\\python\\python36\\lib\\site-packages\\tensorflow\\python\\client\\session.py\", line 1471, in __del__\n",
      "    if self._handle is not None and self._session._session is not None:\n",
      "KeyboardInterrupt\n"
     ]
    }
   ],
   "source": [
    "m = resnet(3, (50, 1))"
   ]
  },
  {
   "cell_type": "code",
   "execution_count": null,
   "metadata": {},
   "outputs": [],
   "source": []
  },
  {
   "cell_type": "code",
   "execution_count": null,
   "metadata": {},
   "outputs": [],
   "source": []
  }
 ],
 "metadata": {
  "kernelspec": {
   "display_name": "Python 3",
   "language": "python",
   "name": "python3"
  },
  "language_info": {
   "codemirror_mode": {
    "name": "ipython",
    "version": 3
   },
   "file_extension": ".py",
   "mimetype": "text/x-python",
   "name": "python",
   "nbconvert_exporter": "python",
   "pygments_lexer": "ipython3",
   "version": "3.6.8"
  }
 },
 "nbformat": 4,
 "nbformat_minor": 2
}
