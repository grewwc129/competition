{
 "cells": [
  {
   "cell_type": "code",
   "execution_count": 1,
   "metadata": {},
   "outputs": [
    {
     "name": "stderr",
     "output_type": "stream",
     "text": [
      "Using TensorFlow backend.\n"
     ]
    }
   ],
   "source": [
    "import keras \n",
    "import tensorflow as tf \n",
    "from keras.models import *\n",
    "from keras.layers import * \n",
    "import keras.backend as K \n",
    "\n",
    "%load_ext autoreload\n",
    "%autoreload 2"
   ]
  },
  {
   "cell_type": "code",
   "execution_count": 73,
   "metadata": {},
   "outputs": [],
   "source": [
    "from scripts.data_utils import *\n",
    "from scripts.nn_resnet import *\n",
    "from scripts.config import config \n",
    "from scripts.general_utils import* \n",
    "from scripts.assessment import *\n",
    "from scripts.maths import *\n",
    "import matplotlib.pyplot as plt \n",
    "\n",
    "fname = 'update_new_columns_trains_sets.csv'"
   ]
  },
  {
   "cell_type": "code",
   "execution_count": 157,
   "metadata": {},
   "outputs": [],
   "source": [
    "model = resnet(3, (300, 1))"
   ]
  },
  {
   "cell_type": "code",
   "execution_count": 163,
   "metadata": {},
   "outputs": [
    {
     "data": {
      "text/plain": [
       "<keras.engine.training.Model at 0x1e346bacba8>"
      ]
     },
     "execution_count": 163,
     "metadata": {},
     "output_type": "execute_result"
    }
   ],
   "source": [
    "# model.summary()\n",
    "set_lr(model, 2e-4)"
   ]
  },
  {
   "cell_type": "code",
   "execution_count": 164,
   "metadata": {},
   "outputs": [
    {
     "name": "stdout",
     "output_type": "stream",
     "text": [
      "##############################\n",
      "iteration: 0\n",
      "******************************\n",
      "iteration: 0, count: 1\n",
      "Train on 972 samples, validate on 52 samples\n",
      "Epoch 1/20\n",
      "972/972 [==============================] - 3s 3ms/step - loss: 0.0794 - acc: 0.9805 - val_loss: 0.0198 - val_acc: 1.0000\n",
      "Epoch 2/20\n",
      "972/972 [==============================] - 3s 3ms/step - loss: 0.0515 - acc: 0.9918 - val_loss: 0.0111 - val_acc: 1.0000\n",
      "Epoch 3/20\n",
      "972/972 [==============================] - 3s 3ms/step - loss: 0.0414 - acc: 0.9907 - val_loss: 0.0144 - val_acc: 1.0000\n",
      "Epoch 4/20\n",
      "972/972 [==============================] - 3s 3ms/step - loss: 0.0314 - acc: 0.9949 - val_loss: 0.0087 - val_acc: 1.0000\n",
      "Epoch 5/20\n",
      "972/972 [==============================] - 3s 3ms/step - loss: 0.0271 - acc: 0.9949 - val_loss: 0.0096 - val_acc: 1.0000\n",
      "Epoch 6/20\n",
      "972/972 [==============================] - 3s 3ms/step - loss: 0.0206 - acc: 0.9969 - val_loss: 0.0097 - val_acc: 1.0000\n",
      "Epoch 7/20\n",
      "972/972 [==============================] - 3s 3ms/step - loss: 0.0166 - acc: 0.9979 - val_loss: 0.0092 - val_acc: 1.0000\n",
      "Epoch 8/20\n",
      "972/972 [==============================] - 3s 3ms/step - loss: 0.0156 - acc: 0.9979 - val_loss: 0.0093 - val_acc: 1.0000\n",
      "Epoch 9/20\n",
      "972/972 [==============================] - 3s 3ms/step - loss: 0.0140 - acc: 0.9990 - val_loss: 0.0099 - val_acc: 1.0000\n",
      "Epoch 10/20\n",
      "972/972 [==============================] - 3s 3ms/step - loss: 0.0119 - acc: 0.9990 - val_loss: 0.0099 - val_acc: 1.0000\n",
      "Epoch 11/20\n",
      "972/972 [==============================] - 3s 3ms/step - loss: 0.0118 - acc: 0.9990 - val_loss: 0.0100 - val_acc: 1.0000\n",
      "Epoch 12/20\n",
      "972/972 [==============================] - 3s 3ms/step - loss: 0.0118 - acc: 0.9990 - val_loss: 0.0097 - val_acc: 1.0000\n",
      "Epoch 13/20\n",
      "972/972 [==============================] - 3s 3ms/step - loss: 0.0108 - acc: 0.9990 - val_loss: 0.0101 - val_acc: 1.0000\n",
      "Epoch 14/20\n",
      "972/972 [==============================] - 3s 3ms/step - loss: 0.0099 - acc: 0.9990 - val_loss: 0.0094 - val_acc: 1.0000\n",
      "Epoch 15/20\n",
      "972/972 [==============================] - 3s 3ms/step - loss: 0.0105 - acc: 0.9990 - val_loss: 0.0097 - val_acc: 1.0000\n",
      "Epoch 16/20\n",
      "972/972 [==============================] - 3s 3ms/step - loss: 0.0101 - acc: 1.0000 - val_loss: 0.0092 - val_acc: 1.0000\n",
      "Epoch 17/20\n",
      "972/972 [==============================] - 3s 3ms/step - loss: 0.0088 - acc: 1.0000 - val_loss: 0.0089 - val_acc: 1.0000\n",
      "Epoch 18/20\n",
      "972/972 [==============================] - 3s 3ms/step - loss: 0.0087 - acc: 1.0000 - val_loss: 0.0090 - val_acc: 1.0000\n",
      "Epoch 19/20\n",
      "972/972 [==============================] - 3s 3ms/step - loss: 0.0091 - acc: 1.0000 - val_loss: 0.0095 - val_acc: 1.0000loss: 0.0087 - acc: 1.\n",
      "Epoch 20/20\n",
      "972/972 [==============================] - 3s 3ms/step - loss: 0.0086 - acc: 1.0000 - val_loss: 0.0104 - val_acc: 1.0000\n",
      "******************************\n",
      "******************************\n",
      "iteration: 0, count: 2\n",
      "Train on 972 samples, validate on 52 samples\n",
      "Epoch 1/20\n",
      "972/972 [==============================] - 3s 3ms/step - loss: 0.0674 - acc: 0.9835 - val_loss: 0.1741 - val_acc: 0.9423\n",
      "Epoch 2/20\n",
      "972/972 [==============================] - 3s 3ms/step - loss: 0.0379 - acc: 0.9907 - val_loss: 0.1462 - val_acc: 0.9423\n",
      "Epoch 3/20\n",
      "972/972 [==============================] - 3s 3ms/step - loss: 0.0214 - acc: 0.9959 - val_loss: 0.1643 - val_acc: 0.9615\n",
      "Epoch 4/20\n",
      "972/972 [==============================] - 3s 3ms/step - loss: 0.0171 - acc: 0.9969 - val_loss: 0.2002 - val_acc: 0.9231\n",
      "Epoch 5/20\n",
      "972/972 [==============================] - 3s 3ms/step - loss: 0.0129 - acc: 0.9979 - val_loss: 0.2066 - val_acc: 0.9231\n",
      "Epoch 6/20\n",
      "972/972 [==============================] - 3s 3ms/step - loss: 0.0114 - acc: 0.9990 - val_loss: 0.2070 - val_acc: 0.9231\n",
      "Epoch 7/20\n",
      "972/972 [==============================] - 3s 3ms/step - loss: 0.0100 - acc: 1.0000 - val_loss: 0.2129 - val_acc: 0.9231\n",
      "Epoch 8/20\n",
      "972/972 [==============================] - 3s 3ms/step - loss: 0.0095 - acc: 1.0000 - val_loss: 0.2200 - val_acc: 0.9231\n",
      "Epoch 9/20\n",
      "972/972 [==============================] - 3s 3ms/step - loss: 0.0090 - acc: 1.0000 - val_loss: 0.2238 - val_acc: 0.9231\n",
      "Epoch 10/20\n",
      "972/972 [==============================] - 3s 3ms/step - loss: 0.0081 - acc: 1.0000 - val_loss: 0.2346 - val_acc: 0.9231\n",
      "Epoch 11/20\n",
      "972/972 [==============================] - 3s 3ms/step - loss: 0.0079 - acc: 1.0000 - val_loss: 0.2382 - val_acc: 0.9231\n",
      "Epoch 12/20\n",
      "972/972 [==============================] - 3s 3ms/step - loss: 0.0076 - acc: 1.0000 - val_loss: 0.2383 - val_acc: 0.9231\n",
      "Epoch 13/20\n",
      "972/972 [==============================] - 3s 3ms/step - loss: 0.0074 - acc: 1.0000 - val_loss: 0.2426 - val_acc: 0.9231\n",
      "Epoch 14/20\n",
      "972/972 [==============================] - 3s 3ms/step - loss: 0.0073 - acc: 1.0000 - val_loss: 0.2477 - val_acc: 0.9231\n",
      "Epoch 15/20\n",
      "972/972 [==============================] - 3s 3ms/step - loss: 0.0076 - acc: 1.0000 - val_loss: 0.2390 - val_acc: 0.9231\n",
      "Epoch 16/20\n",
      "972/972 [==============================] - 3s 3ms/step - loss: 0.0075 - acc: 1.0000 - val_loss: 0.2379 - val_acc: 0.9231\n",
      "Epoch 17/20\n",
      "972/972 [==============================] - 3s 3ms/step - loss: 0.0071 - acc: 1.0000 - val_loss: 0.2398 - val_acc: 0.9231\n",
      "Epoch 18/20\n",
      "972/972 [==============================] - 3s 3ms/step - loss: 0.0070 - acc: 1.0000 - val_loss: 0.2413 - val_acc: 0.9231\n",
      "Epoch 19/20\n",
      "972/972 [==============================] - 3s 3ms/step - loss: 0.0071 - acc: 1.0000 - val_loss: 0.2406 - val_acc: 0.9231\n",
      "Epoch 20/20\n",
      "972/972 [==============================] - 3s 3ms/step - loss: 0.0071 - acc: 1.0000 - val_loss: 0.2436 - val_acc: 0.9231\n",
      "******************************\n",
      "******************************\n",
      "iteration: 0, count: 3\n",
      "Train on 972 samples, validate on 52 samples\n",
      "Epoch 1/20\n",
      "972/972 [==============================] - 3s 4ms/step - loss: 0.0595 - acc: 0.9825 - val_loss: 0.0173 - val_acc: 1.0000\n",
      "Epoch 2/20\n",
      "972/972 [==============================] - 3s 3ms/step - loss: 0.0409 - acc: 0.9907 - val_loss: 0.0145 - val_acc: 1.0000\n",
      "Epoch 3/20\n",
      "972/972 [==============================] - 4s 4ms/step - loss: 0.0288 - acc: 0.9928 - val_loss: 0.0191 - val_acc: 1.0000\n",
      "Epoch 4/20\n",
      "972/972 [==============================] - 3s 3ms/step - loss: 0.0207 - acc: 0.9959 - val_loss: 0.0172 - val_acc: 1.0000\n",
      "Epoch 5/20\n",
      "972/972 [==============================] - 3s 3ms/step - loss: 0.0177 - acc: 0.9979 - val_loss: 0.0178 - val_acc: 1.0000\n",
      "Epoch 6/20\n",
      "972/972 [==============================] - 3s 3ms/step - loss: 0.0143 - acc: 0.9990 - val_loss: 0.0215 - val_acc: 0.9808\n",
      "Epoch 7/20\n",
      "972/972 [==============================] - 3s 3ms/step - loss: 0.0136 - acc: 0.9990 - val_loss: 0.0184 - val_acc: 1.0000\n",
      "Epoch 8/20\n",
      "972/972 [==============================] - 3s 3ms/step - loss: 0.0115 - acc: 0.9990 - val_loss: 0.0165 - val_acc: 1.0000\n",
      "Epoch 9/20\n",
      "972/972 [==============================] - 3s 3ms/step - loss: 0.0104 - acc: 1.0000 - val_loss: 0.0170 - val_acc: 1.0000\n",
      "Epoch 10/20\n",
      "972/972 [==============================] - 3s 3ms/step - loss: 0.0098 - acc: 0.9990 - val_loss: 0.0175 - val_acc: 1.0000\n",
      "Epoch 11/20\n",
      "972/972 [==============================] - 4s 4ms/step - loss: 0.0088 - acc: 1.0000 - val_loss: 0.0176 - val_acc: 1.0000\n",
      "Epoch 12/20\n",
      "972/972 [==============================] - 4s 4ms/step - loss: 0.0086 - acc: 1.0000 - val_loss: 0.0178 - val_acc: 1.0000\n",
      "Epoch 13/20\n",
      "972/972 [==============================] - 4s 4ms/step - loss: 0.0080 - acc: 1.0000 - val_loss: 0.0167 - val_acc: 1.0000\n",
      "Epoch 14/20\n",
      "972/972 [==============================] - 3s 3ms/step - loss: 0.0081 - acc: 1.0000 - val_loss: 0.0159 - val_acc: 1.0000\n",
      "Epoch 15/20\n",
      "972/972 [==============================] - 3s 3ms/step - loss: 0.0080 - acc: 1.0000 - val_loss: 0.0145 - val_acc: 1.0000\n",
      "Epoch 16/20\n",
      "972/972 [==============================] - 3s 3ms/step - loss: 0.0080 - acc: 1.0000 - val_loss: 0.0140 - val_acc: 1.0000\n",
      "Epoch 17/20\n",
      "972/972 [==============================] - 3s 3ms/step - loss: 0.0077 - acc: 1.0000 - val_loss: 0.0147 - val_acc: 1.0000\n",
      "Epoch 18/20\n",
      "972/972 [==============================] - 3s 4ms/step - loss: 0.0078 - acc: 1.0000 - val_loss: 0.0149 - val_acc: 1.0000\n",
      "Epoch 19/20\n"
     ]
    },
    {
     "name": "stdout",
     "output_type": "stream",
     "text": [
      "972/972 [==============================] - 3s 3ms/step - loss: 0.0078 - acc: 1.0000 - val_loss: 0.0139 - val_acc: 1.0000\n",
      "Epoch 20/20\n",
      "972/972 [==============================] - 3s 3ms/step - loss: 0.0070 - acc: 1.0000 - val_loss: 0.0135 - val_acc: 1.0000\n",
      "******************************\n",
      "******************************\n",
      "iteration: 0, count: 4\n",
      "Train on 972 samples, validate on 52 samples\n",
      "Epoch 1/20\n",
      "972/972 [==============================] - 3s 3ms/step - loss: 0.0801 - acc: 0.9897 - val_loss: 0.0412 - val_acc: 0.9808\n",
      "Epoch 2/20\n",
      "972/972 [==============================] - 3s 3ms/step - loss: 0.0539 - acc: 0.9897 - val_loss: 0.0557 - val_acc: 0.9808\n",
      "Epoch 3/20\n",
      "972/972 [==============================] - 3s 3ms/step - loss: 0.0377 - acc: 0.9928 - val_loss: 0.0527 - val_acc: 0.9808\n",
      "Epoch 4/20\n",
      "972/972 [==============================] - 3s 3ms/step - loss: 0.0277 - acc: 0.9949 - val_loss: 0.0581 - val_acc: 0.9808\n",
      "Epoch 5/20\n",
      "972/972 [==============================] - 3s 3ms/step - loss: 0.0205 - acc: 0.9969 - val_loss: 0.0633 - val_acc: 0.9808\n",
      "Epoch 6/20\n",
      "972/972 [==============================] - 3s 3ms/step - loss: 0.0211 - acc: 0.9949 - val_loss: 0.0511 - val_acc: 0.9808\n",
      "Epoch 7/20\n",
      "972/972 [==============================] - 3s 3ms/step - loss: 0.0154 - acc: 0.9969 - val_loss: 0.0488 - val_acc: 0.9808\n",
      "Epoch 8/20\n",
      "972/972 [==============================] - 3s 3ms/step - loss: 0.0124 - acc: 0.9979 - val_loss: 0.0506 - val_acc: 0.9615\n",
      "Epoch 9/20\n",
      "972/972 [==============================] - 3s 3ms/step - loss: 0.0129 - acc: 0.9990 - val_loss: 0.0518 - val_acc: 0.9615\n",
      "Epoch 10/20\n",
      "972/972 [==============================] - 3s 3ms/step - loss: 0.0095 - acc: 1.0000 - val_loss: 0.0521 - val_acc: 0.9615\n",
      "Epoch 11/20\n",
      "972/972 [==============================] - 3s 3ms/step - loss: 0.0108 - acc: 0.9990 - val_loss: 0.0543 - val_acc: 0.9808\n",
      "Epoch 12/20\n",
      "972/972 [==============================] - 3s 3ms/step - loss: 0.0136 - acc: 0.9979 - val_loss: 0.0550 - val_acc: 0.9808\n",
      "Epoch 13/20\n",
      "972/972 [==============================] - 3s 3ms/step - loss: 0.0135 - acc: 0.9990 - val_loss: 0.0581 - val_acc: 0.9808\n",
      "Epoch 14/20\n",
      "972/972 [==============================] - 3s 3ms/step - loss: 0.0083 - acc: 1.0000 - val_loss: 0.0575 - val_acc: 0.9808\n",
      "Epoch 15/20\n",
      "972/972 [==============================] - 3s 3ms/step - loss: 0.0076 - acc: 1.0000 - val_loss: 0.0533 - val_acc: 0.9808\n",
      "Epoch 16/20\n",
      "972/972 [==============================] - 3s 3ms/step - loss: 0.0073 - acc: 1.0000 - val_loss: 0.0511 - val_acc: 0.9808\n",
      "Epoch 17/20\n",
      "972/972 [==============================] - 3s 3ms/step - loss: 0.0079 - acc: 1.0000 - val_loss: 0.0497 - val_acc: 0.9808\n",
      "Epoch 18/20\n",
      "972/972 [==============================] - 3s 3ms/step - loss: 0.0070 - acc: 1.0000 - val_loss: 0.0498 - val_acc: 0.9808\n",
      "Epoch 19/20\n",
      "972/972 [==============================] - 3s 3ms/step - loss: 0.0068 - acc: 1.0000 - val_loss: 0.0502 - val_acc: 0.9808\n",
      "Epoch 20/20\n",
      "972/972 [==============================] - 3s 3ms/step - loss: 0.0071 - acc: 1.0000 - val_loss: 0.0494 - val_acc: 0.9808\n",
      "******************************\n"
     ]
    },
    {
     "ename": "KeyboardInterrupt",
     "evalue": "",
     "output_type": "error",
     "traceback": [
      "\u001b[1;31m---------------------------------------------------------------------------\u001b[0m",
      "\u001b[1;31mKeyboardInterrupt\u001b[0m                         Traceback (most recent call last)",
      "\u001b[1;32m<ipython-input-164-68e701fa3590>\u001b[0m in \u001b[0;36m<module>\u001b[1;34m\u001b[0m\n\u001b[0;32m     19\u001b[0m                 \u001b[1;32mbreak\u001b[0m\u001b[1;33m\u001b[0m\u001b[1;33m\u001b[0m\u001b[0m\n\u001b[0;32m     20\u001b[0m \u001b[1;33m\u001b[0m\u001b[0m\n\u001b[1;32m---> 21\u001b[1;33m \u001b[0mtrain\u001b[0m\u001b[1;33m(\u001b[0m\u001b[1;33m)\u001b[0m\u001b[1;33m\u001b[0m\u001b[1;33m\u001b[0m\u001b[0m\n\u001b[0m",
      "\u001b[1;32m<ipython-input-164-68e701fa3590>\u001b[0m in \u001b[0;36mtrain\u001b[1;34m()\u001b[0m\n\u001b[0;32m     10\u001b[0m             \u001b[1;32mtry\u001b[0m\u001b[1;33m:\u001b[0m\u001b[1;33m\u001b[0m\u001b[1;33m\u001b[0m\u001b[0m\n\u001b[0;32m     11\u001b[0m                 \u001b[0mcur\u001b[0m \u001b[1;33m=\u001b[0m \u001b[0mdf\u001b[0m\u001b[1;33m.\u001b[0m\u001b[0mget_chunk\u001b[0m\u001b[1;33m(\u001b[0m\u001b[0mbatch_size\u001b[0m\u001b[1;33m)\u001b[0m\u001b[1;33m\u001b[0m\u001b[1;33m\u001b[0m\u001b[0m\n\u001b[1;32m---> 12\u001b[1;33m                 \u001b[0mtrain_x\u001b[0m\u001b[1;33m,\u001b[0m \u001b[0mtrain_y\u001b[0m \u001b[1;33m=\u001b[0m \u001b[0mtrim_df\u001b[0m\u001b[1;33m(\u001b[0m\u001b[0mcur\u001b[0m\u001b[1;33m)\u001b[0m\u001b[1;33m\u001b[0m\u001b[1;33m\u001b[0m\u001b[0m\n\u001b[0m\u001b[0;32m     13\u001b[0m                 \u001b[0mprint\u001b[0m\u001b[1;33m(\u001b[0m\u001b[1;34m\"*\"\u001b[0m \u001b[1;33m*\u001b[0m \u001b[1;36m30\u001b[0m\u001b[1;33m)\u001b[0m\u001b[1;33m\u001b[0m\u001b[1;33m\u001b[0m\u001b[0m\n\u001b[0;32m     14\u001b[0m                 \u001b[0mprint\u001b[0m\u001b[1;33m(\u001b[0m\u001b[1;34m\"iteration: {}, count: {}\"\u001b[0m\u001b[1;33m.\u001b[0m\u001b[0mformat\u001b[0m\u001b[1;33m(\u001b[0m\u001b[0mi\u001b[0m\u001b[1;33m,\u001b[0m \u001b[0mcount\u001b[0m \u001b[1;33m+\u001b[0m \u001b[1;36m1\u001b[0m\u001b[1;33m)\u001b[0m\u001b[1;33m)\u001b[0m\u001b[1;33m\u001b[0m\u001b[1;33m\u001b[0m\u001b[0m\n",
      "\u001b[1;32m~\\Desktop\\go_download\\scripts\\data_utils.py\u001b[0m in \u001b[0;36mtrim_df\u001b[1;34m(df, use_bin)\u001b[0m\n\u001b[0;32m     44\u001b[0m     \u001b[1;32mif\u001b[0m \u001b[0muse_bin\u001b[0m\u001b[1;33m:\u001b[0m\u001b[1;33m\u001b[0m\u001b[1;33m\u001b[0m\u001b[0m\n\u001b[0;32m     45\u001b[0m         train_x = np.array(\n\u001b[1;32m---> 46\u001b[1;33m             [average_bin(global_x, x, num_bins=config.num_bins, normalize=True) for x in train_x])\n\u001b[0m\u001b[0;32m     47\u001b[0m     \u001b[0mtrain_x\u001b[0m \u001b[1;33m=\u001b[0m \u001b[0mtrain_x\u001b[0m\u001b[1;33m.\u001b[0m\u001b[0mreshape\u001b[0m\u001b[1;33m(\u001b[0m\u001b[1;33m*\u001b[0m\u001b[0mtrain_x\u001b[0m\u001b[1;33m.\u001b[0m\u001b[0mshape\u001b[0m\u001b[1;33m,\u001b[0m \u001b[1;36m1\u001b[0m\u001b[1;33m)\u001b[0m\u001b[1;33m\u001b[0m\u001b[1;33m\u001b[0m\u001b[0m\n\u001b[0;32m     48\u001b[0m     \u001b[1;32mreturn\u001b[0m \u001b[0mtrain_x\u001b[0m\u001b[1;33m,\u001b[0m \u001b[0mtrain_y\u001b[0m\u001b[1;33m\u001b[0m\u001b[1;33m\u001b[0m\u001b[0m\n",
      "\u001b[1;32m~\\Desktop\\go_download\\scripts\\data_utils.py\u001b[0m in \u001b[0;36m<listcomp>\u001b[1;34m(.0)\u001b[0m\n\u001b[0;32m     44\u001b[0m     \u001b[1;32mif\u001b[0m \u001b[0muse_bin\u001b[0m\u001b[1;33m:\u001b[0m\u001b[1;33m\u001b[0m\u001b[1;33m\u001b[0m\u001b[0m\n\u001b[0;32m     45\u001b[0m         train_x = np.array(\n\u001b[1;32m---> 46\u001b[1;33m             [average_bin(global_x, x, num_bins=config.num_bins, normalize=True) for x in train_x])\n\u001b[0m\u001b[0;32m     47\u001b[0m     \u001b[0mtrain_x\u001b[0m \u001b[1;33m=\u001b[0m \u001b[0mtrain_x\u001b[0m\u001b[1;33m.\u001b[0m\u001b[0mreshape\u001b[0m\u001b[1;33m(\u001b[0m\u001b[1;33m*\u001b[0m\u001b[0mtrain_x\u001b[0m\u001b[1;33m.\u001b[0m\u001b[0mshape\u001b[0m\u001b[1;33m,\u001b[0m \u001b[1;36m1\u001b[0m\u001b[1;33m)\u001b[0m\u001b[1;33m\u001b[0m\u001b[1;33m\u001b[0m\u001b[0m\n\u001b[0;32m     48\u001b[0m     \u001b[1;32mreturn\u001b[0m \u001b[0mtrain_x\u001b[0m\u001b[1;33m,\u001b[0m \u001b[0mtrain_y\u001b[0m\u001b[1;33m\u001b[0m\u001b[1;33m\u001b[0m\u001b[0m\n",
      "\u001b[1;32m~\\Desktop\\go_download\\scripts\\maths.py\u001b[0m in \u001b[0;36maverage_bin\u001b[1;34m(x, y, num_bins, bin_width, normalize)\u001b[0m\n\u001b[0;32m     56\u001b[0m     \u001b[1;32mfor\u001b[0m \u001b[0mi\u001b[0m \u001b[1;32min\u001b[0m \u001b[0mrange\u001b[0m\u001b[1;33m(\u001b[0m\u001b[0mnum_bins\u001b[0m\u001b[1;33m)\u001b[0m\u001b[1;33m:\u001b[0m\u001b[1;33m\u001b[0m\u001b[1;33m\u001b[0m\u001b[0m\n\u001b[0;32m     57\u001b[0m         indices = np.argwhere(\n\u001b[1;32m---> 58\u001b[1;33m             (x < bin_hi) & (x >= bin_lo)).ravel()\n\u001b[0m\u001b[0;32m     59\u001b[0m \u001b[1;33m\u001b[0m\u001b[0m\n\u001b[0;32m     60\u001b[0m         \u001b[1;32mif\u001b[0m \u001b[0mlen\u001b[0m\u001b[1;33m(\u001b[0m\u001b[0mindices\u001b[0m\u001b[1;33m)\u001b[0m \u001b[1;33m>\u001b[0m \u001b[1;36m0\u001b[0m\u001b[1;33m:\u001b[0m\u001b[1;33m\u001b[0m\u001b[1;33m\u001b[0m\u001b[0m\n",
      "\u001b[1;31mKeyboardInterrupt\u001b[0m: "
     ]
    }
   ],
   "source": [
    "def train():\n",
    "\n",
    "    batch_size = 1024\n",
    "    for i in range(10):\n",
    "        print(\"#\"*30)\n",
    "        print('iteration: {}'.format(i))\n",
    "        df = pd.read_csv(fname, iterator=True)\n",
    "        count = 0\n",
    "        while 1:\n",
    "            try:\n",
    "                cur = df.get_chunk(batch_size)\n",
    "                train_x, train_y = trim_df(cur)\n",
    "                print(\"*\" * 30)\n",
    "                print(\"iteration: {}, count: {}\".format(i, count + 1))\n",
    "                count += 1\n",
    "                model.fit(train_x, train_y, epochs=20, validation_split=0.05)\n",
    "                print(\"*\" * 30)\n",
    "            except StopIteration:\n",
    "                break \n",
    "                \n",
    "train()"
   ]
  },
  {
   "cell_type": "code",
   "execution_count": 130,
   "metadata": {},
   "outputs": [],
   "source": [
    "df = getIthBatch(fname, 0, 1000, split_train_test=0)\n"
   ]
  },
  {
   "cell_type": "code",
   "execution_count": 138,
   "metadata": {},
   "outputs": [
    {
     "data": {
      "text/html": [
       "<div>\n",
       "<style scoped>\n",
       "    .dataframe tbody tr th:only-of-type {\n",
       "        vertical-align: middle;\n",
       "    }\n",
       "\n",
       "    .dataframe tbody tr th {\n",
       "        vertical-align: top;\n",
       "    }\n",
       "\n",
       "    .dataframe thead th {\n",
       "        text-align: right;\n",
       "    }\n",
       "</style>\n",
       "<table border=\"1\" class=\"dataframe\">\n",
       "  <thead>\n",
       "    <tr style=\"text-align: right;\">\n",
       "      <th></th>\n",
       "      <th>0</th>\n",
       "      <th>1</th>\n",
       "      <th>2</th>\n",
       "      <th>3</th>\n",
       "      <th>4</th>\n",
       "      <th>5</th>\n",
       "      <th>6</th>\n",
       "      <th>7</th>\n",
       "      <th>8</th>\n",
       "      <th>9</th>\n",
       "      <th>...</th>\n",
       "      <th>2592</th>\n",
       "      <th>2593</th>\n",
       "      <th>2594</th>\n",
       "      <th>2595</th>\n",
       "      <th>2596</th>\n",
       "      <th>2597</th>\n",
       "      <th>2598</th>\n",
       "      <th>2599</th>\n",
       "      <th>2600</th>\n",
       "      <th>2601</th>\n",
       "    </tr>\n",
       "  </thead>\n",
       "  <tbody>\n",
       "    <tr>\n",
       "      <th>0</th>\n",
       "      <td>41.167630</td>\n",
       "      <td>128.404863</td>\n",
       "      <td>113.342102</td>\n",
       "      <td>96.332659</td>\n",
       "      <td>155.429838</td>\n",
       "      <td>103.355702</td>\n",
       "      <td>137.708264</td>\n",
       "      <td>37.861562</td>\n",
       "      <td>39.673803</td>\n",
       "      <td>50.543431</td>\n",
       "      <td>...</td>\n",
       "      <td>155.748438</td>\n",
       "      <td>164.905856</td>\n",
       "      <td>152.331062</td>\n",
       "      <td>141.852236</td>\n",
       "      <td>135.080094</td>\n",
       "      <td>133.500859</td>\n",
       "      <td>154.136530</td>\n",
       "      <td>171.568474</td>\n",
       "      <td>star</td>\n",
       "      <td>7dad7234f998192fdbd8183952ef20c8</td>\n",
       "    </tr>\n",
       "    <tr>\n",
       "      <th>1</th>\n",
       "      <td>-346.646602</td>\n",
       "      <td>-171.032817</td>\n",
       "      <td>186.992031</td>\n",
       "      <td>-716.384903</td>\n",
       "      <td>254.621417</td>\n",
       "      <td>732.285840</td>\n",
       "      <td>92.950140</td>\n",
       "      <td>871.351690</td>\n",
       "      <td>-55.170295</td>\n",
       "      <td>-184.566823</td>\n",
       "      <td>...</td>\n",
       "      <td>483.402540</td>\n",
       "      <td>521.284520</td>\n",
       "      <td>542.210809</td>\n",
       "      <td>488.168831</td>\n",
       "      <td>495.515646</td>\n",
       "      <td>519.919761</td>\n",
       "      <td>528.461916</td>\n",
       "      <td>509.382020</td>\n",
       "      <td>star</td>\n",
       "      <td>e7813ce88966dd145ca4a604eb66ad96</td>\n",
       "    </tr>\n",
       "    <tr>\n",
       "      <th>2</th>\n",
       "      <td>2387.394914</td>\n",
       "      <td>2962.318974</td>\n",
       "      <td>3514.910243</td>\n",
       "      <td>3643.305956</td>\n",
       "      <td>3423.303276</td>\n",
       "      <td>3647.917856</td>\n",
       "      <td>3908.737325</td>\n",
       "      <td>3387.910634</td>\n",
       "      <td>2762.518797</td>\n",
       "      <td>2953.116359</td>\n",
       "      <td>...</td>\n",
       "      <td>5165.653546</td>\n",
       "      <td>5118.992689</td>\n",
       "      <td>4951.877510</td>\n",
       "      <td>4634.349520</td>\n",
       "      <td>4406.328902</td>\n",
       "      <td>4472.693075</td>\n",
       "      <td>4795.940878</td>\n",
       "      <td>5121.840348</td>\n",
       "      <td>star</td>\n",
       "      <td>045175f20fb74d88354cd3aa56620542</td>\n",
       "    </tr>\n",
       "    <tr>\n",
       "      <th>3</th>\n",
       "      <td>80.562754</td>\n",
       "      <td>59.513893</td>\n",
       "      <td>69.655255</td>\n",
       "      <td>71.265120</td>\n",
       "      <td>141.805016</td>\n",
       "      <td>48.109098</td>\n",
       "      <td>139.253948</td>\n",
       "      <td>68.265771</td>\n",
       "      <td>90.808146</td>\n",
       "      <td>112.768287</td>\n",
       "      <td>...</td>\n",
       "      <td>48.698369</td>\n",
       "      <td>46.498682</td>\n",
       "      <td>46.400705</td>\n",
       "      <td>43.561856</td>\n",
       "      <td>27.760035</td>\n",
       "      <td>18.326394</td>\n",
       "      <td>25.614916</td>\n",
       "      <td>33.622985</td>\n",
       "      <td>star</td>\n",
       "      <td>2c9879d370ef4d080fde817d87bc2c30</td>\n",
       "    </tr>\n",
       "    <tr>\n",
       "      <th>4</th>\n",
       "      <td>117.760337</td>\n",
       "      <td>20.949811</td>\n",
       "      <td>57.370654</td>\n",
       "      <td>95.891313</td>\n",
       "      <td>104.290857</td>\n",
       "      <td>143.640962</td>\n",
       "      <td>69.819133</td>\n",
       "      <td>78.375157</td>\n",
       "      <td>80.904606</td>\n",
       "      <td>144.822199</td>\n",
       "      <td>...</td>\n",
       "      <td>55.154461</td>\n",
       "      <td>53.332641</td>\n",
       "      <td>49.130921</td>\n",
       "      <td>45.127950</td>\n",
       "      <td>40.212215</td>\n",
       "      <td>42.787378</td>\n",
       "      <td>49.548343</td>\n",
       "      <td>56.441171</td>\n",
       "      <td>star</td>\n",
       "      <td>a1bc6a343ad39d7a8c75a2ae59771eb1</td>\n",
       "    </tr>\n",
       "  </tbody>\n",
       "</table>\n",
       "<p>5 rows × 2602 columns</p>\n",
       "</div>"
      ],
      "text/plain": [
       "          0            1            2            3            4     \\\n",
       "0    41.167630   128.404863   113.342102    96.332659   155.429838   \n",
       "1  -346.646602  -171.032817   186.992031  -716.384903   254.621417   \n",
       "2  2387.394914  2962.318974  3514.910243  3643.305956  3423.303276   \n",
       "3    80.562754    59.513893    69.655255    71.265120   141.805016   \n",
       "4   117.760337    20.949811    57.370654    95.891313   104.290857   \n",
       "\n",
       "          5            6            7            8            9     ...  \\\n",
       "0   103.355702   137.708264    37.861562    39.673803    50.543431  ...   \n",
       "1   732.285840    92.950140   871.351690   -55.170295  -184.566823  ...   \n",
       "2  3647.917856  3908.737325  3387.910634  2762.518797  2953.116359  ...   \n",
       "3    48.109098   139.253948    68.265771    90.808146   112.768287  ...   \n",
       "4   143.640962    69.819133    78.375157    80.904606   144.822199  ...   \n",
       "\n",
       "          2592         2593         2594         2595         2596  \\\n",
       "0   155.748438   164.905856   152.331062   141.852236   135.080094   \n",
       "1   483.402540   521.284520   542.210809   488.168831   495.515646   \n",
       "2  5165.653546  5118.992689  4951.877510  4634.349520  4406.328902   \n",
       "3    48.698369    46.498682    46.400705    43.561856    27.760035   \n",
       "4    55.154461    53.332641    49.130921    45.127950    40.212215   \n",
       "\n",
       "          2597         2598         2599  2600  \\\n",
       "0   133.500859   154.136530   171.568474  star   \n",
       "1   519.919761   528.461916   509.382020  star   \n",
       "2  4472.693075  4795.940878  5121.840348  star   \n",
       "3    18.326394    25.614916    33.622985  star   \n",
       "4    42.787378    49.548343    56.441171  star   \n",
       "\n",
       "                               2601  \n",
       "0  7dad7234f998192fdbd8183952ef20c8  \n",
       "1  e7813ce88966dd145ca4a604eb66ad96  \n",
       "2  045175f20fb74d88354cd3aa56620542  \n",
       "3  2c9879d370ef4d080fde817d87bc2c30  \n",
       "4  a1bc6a343ad39d7a8c75a2ae59771eb1  \n",
       "\n",
       "[5 rows x 2602 columns]"
      ]
     },
     "execution_count": 138,
     "metadata": {},
     "output_type": "execute_result"
    }
   ],
   "source": [
    "df.head()"
   ]
  },
  {
   "cell_type": "code",
   "execution_count": 139,
   "metadata": {},
   "outputs": [],
   "source": [
    "test_df = pd.read_csv(fname, iterator=1)"
   ]
  },
  {
   "cell_type": "code",
   "execution_count": 142,
   "metadata": {},
   "outputs": [],
   "source": [
    "cur = test_df.get_chunk(1000)"
   ]
  },
  {
   "cell_type": "code",
   "execution_count": 152,
   "metadata": {},
   "outputs": [],
   "source": [
    "trim_x, trim_y = trim_df(cur)"
   ]
  },
  {
   "cell_type": "code",
   "execution_count": 156,
   "metadata": {},
   "outputs": [
    {
     "data": {
      "text/plain": [
       "[<matplotlib.lines.Line2D at 0x1e32215f780>]"
      ]
     },
     "execution_count": 156,
     "metadata": {},
     "output_type": "execute_result"
    },
    {
     "data": {
      "image/png": "[encoded data removed]",
      "text/plain": [
       "<Figure size 432x288 with 1 Axes>"
      ]
     },
     "metadata": {
      "needs_background": "light"
     },
     "output_type": "display_data"
    }
   ],
   "source": [
    "plt.plot(trim_x.reshape(*trim_x.shape[:-1])[3])"
   ]
  },
  {
   "cell_type": "code",
   "execution_count": 137,
   "metadata": {},
   "outputs": [
    {
     "data": {
      "text/plain": [
       "array([[-0.72787416, -0.94187835, -0.89919279, ..., -0.35759907,\n",
       "        -0.36511039, -0.39441372],\n",
       "       [-0.57000417, -0.48924396, -0.32765115, ...,  0.55498307,\n",
       "         0.55475774,  0.51142866],\n",
       "       [-0.75628537, -0.97446623, -0.9251036 , ..., -0.31365547,\n",
       "        -0.33653047, -0.38009177],\n",
       "       ...,\n",
       "       [ 0.11889202, -0.28180054,  0.51324713, ..., -0.59794038,\n",
       "        -0.4847068 , -0.56542261],\n",
       "       [-0.79446024, -0.88658079, -0.87959228, ..., -0.40576799,\n",
       "        -0.43598437, -0.48655172],\n",
       "       [-0.65541559, -1.        , -0.76107327, ..., -0.18915332,\n",
       "        -0.13428651, -0.0857402 ]])"
      ]
     },
     "execution_count": 137,
     "metadata": {},
     "output_type": "execute_result"
    }
   ],
   "source": [
    "x.reshape(*x.shape[:-1])"
   ]
  },
  {
   "cell_type": "code",
   "execution_count": 125,
   "metadata": {},
   "outputs": [],
   "source": [
    "x, y = getIthBatch(fname, 0, 1000)\n",
    "x = np.array([average_bin(np.arange(2600), xi, 300) for xi in x])"
   ]
  },
  {
   "cell_type": "code",
   "execution_count": 126,
   "metadata": {},
   "outputs": [],
   "source": [
    "x = x.reshape(*x.shape, 1)"
   ]
  },
  {
   "cell_type": "code",
   "execution_count": 128,
   "metadata": {},
   "outputs": [
    {
     "name": "stdout",
     "output_type": "stream",
     "text": [
      "Epoch 1/20\n",
      "1000/1000 [==============================] - 31s 31ms/step - loss: 0.9404 - acc: 0.8390 35s \n",
      "Epoch 2/20\n",
      "1000/1000 [==============================] - 3s 3ms/step - loss: 0.7211 - acc: 0.9120\n",
      "Epoch 3/20\n",
      "1000/1000 [==============================] - 3s 3ms/step - loss: 0.6434 - acc: 0.9420\n",
      "Epoch 4/20\n",
      "1000/1000 [==============================] - 3s 3ms/step - loss: 0.6192 - acc: 0.9540\n",
      "Epoch 5/20\n",
      "1000/1000 [==============================] - 3s 3ms/step - loss: 0.5734 - acc: 0.9710\n",
      "Epoch 6/20\n",
      " 288/1000 [=======>......................] - ETA: 2s - loss: 0.5751 - acc: 0.9688"
     ]
    },
    {
     "ename": "KeyboardInterrupt",
     "evalue": "",
     "output_type": "error",
     "traceback": [
      "\u001b[1;31m---------------------------------------------------------------------------\u001b[0m",
      "\u001b[1;31mKeyboardInterrupt\u001b[0m                         Traceback (most recent call last)",
      "\u001b[1;32m<ipython-input-128-8ee17f29f84b>\u001b[0m in \u001b[0;36m<module>\u001b[1;34m\u001b[0m\n\u001b[1;32m----> 1\u001b[1;33m \u001b[0mmodel\u001b[0m\u001b[1;33m.\u001b[0m\u001b[0mfit\u001b[0m\u001b[1;33m(\u001b[0m\u001b[0mx\u001b[0m\u001b[1;33m,\u001b[0m \u001b[0my\u001b[0m\u001b[1;33m,\u001b[0m \u001b[0mepochs\u001b[0m\u001b[1;33m=\u001b[0m\u001b[1;36m20\u001b[0m\u001b[1;33m)\u001b[0m\u001b[1;33m\u001b[0m\u001b[1;33m\u001b[0m\u001b[0m\n\u001b[0m",
      "\u001b[1;32m~\\AppData\\Roaming\\Python\\Python36\\site-packages\\keras\\engine\\training.py\u001b[0m in \u001b[0;36mfit\u001b[1;34m(self, x, y, batch_size, epochs, verbose, callbacks, validation_split, validation_data, shuffle, class_weight, sample_weight, initial_epoch, steps_per_epoch, validation_steps, **kwargs)\u001b[0m\n\u001b[0;32m   1037\u001b[0m                                         \u001b[0minitial_epoch\u001b[0m\u001b[1;33m=\u001b[0m\u001b[0minitial_epoch\u001b[0m\u001b[1;33m,\u001b[0m\u001b[1;33m\u001b[0m\u001b[1;33m\u001b[0m\u001b[0m\n\u001b[0;32m   1038\u001b[0m                                         \u001b[0msteps_per_epoch\u001b[0m\u001b[1;33m=\u001b[0m\u001b[0msteps_per_epoch\u001b[0m\u001b[1;33m,\u001b[0m\u001b[1;33m\u001b[0m\u001b[1;33m\u001b[0m\u001b[0m\n\u001b[1;32m-> 1039\u001b[1;33m                                         validation_steps=validation_steps)\n\u001b[0m\u001b[0;32m   1040\u001b[0m \u001b[1;33m\u001b[0m\u001b[0m\n\u001b[0;32m   1041\u001b[0m     def evaluate(self, x=None, y=None,\n",
      "\u001b[1;32m~\\AppData\\Roaming\\Python\\Python36\\site-packages\\keras\\engine\\training_arrays.py\u001b[0m in \u001b[0;36mfit_loop\u001b[1;34m(model, f, ins, out_labels, batch_size, epochs, verbose, callbacks, val_f, val_ins, shuffle, callback_metrics, initial_epoch, steps_per_epoch, validation_steps)\u001b[0m\n\u001b[0;32m    197\u001b[0m                     \u001b[0mins_batch\u001b[0m\u001b[1;33m[\u001b[0m\u001b[0mi\u001b[0m\u001b[1;33m]\u001b[0m \u001b[1;33m=\u001b[0m \u001b[0mins_batch\u001b[0m\u001b[1;33m[\u001b[0m\u001b[0mi\u001b[0m\u001b[1;33m]\u001b[0m\u001b[1;33m.\u001b[0m\u001b[0mtoarray\u001b[0m\u001b[1;33m(\u001b[0m\u001b[1;33m)\u001b[0m\u001b[1;33m\u001b[0m\u001b[1;33m\u001b[0m\u001b[0m\n\u001b[0;32m    198\u001b[0m \u001b[1;33m\u001b[0m\u001b[0m\n\u001b[1;32m--> 199\u001b[1;33m                 \u001b[0mouts\u001b[0m \u001b[1;33m=\u001b[0m \u001b[0mf\u001b[0m\u001b[1;33m(\u001b[0m\u001b[0mins_batch\u001b[0m\u001b[1;33m)\u001b[0m\u001b[1;33m\u001b[0m\u001b[1;33m\u001b[0m\u001b[0m\n\u001b[0m\u001b[0;32m    200\u001b[0m                 \u001b[0mouts\u001b[0m \u001b[1;33m=\u001b[0m \u001b[0mto_list\u001b[0m\u001b[1;33m(\u001b[0m\u001b[0mouts\u001b[0m\u001b[1;33m)\u001b[0m\u001b[1;33m\u001b[0m\u001b[1;33m\u001b[0m\u001b[0m\n\u001b[0;32m    201\u001b[0m                 \u001b[1;32mfor\u001b[0m \u001b[0ml\u001b[0m\u001b[1;33m,\u001b[0m \u001b[0mo\u001b[0m \u001b[1;32min\u001b[0m \u001b[0mzip\u001b[0m\u001b[1;33m(\u001b[0m\u001b[0mout_labels\u001b[0m\u001b[1;33m,\u001b[0m \u001b[0mouts\u001b[0m\u001b[1;33m)\u001b[0m\u001b[1;33m:\u001b[0m\u001b[1;33m\u001b[0m\u001b[1;33m\u001b[0m\u001b[0m\n",
      "\u001b[1;32m~\\AppData\\Roaming\\Python\\Python36\\site-packages\\keras\\backend\\tensorflow_backend.py\u001b[0m in \u001b[0;36m__call__\u001b[1;34m(self, inputs)\u001b[0m\n\u001b[0;32m   2713\u001b[0m                 \u001b[1;32mreturn\u001b[0m \u001b[0mself\u001b[0m\u001b[1;33m.\u001b[0m\u001b[0m_legacy_call\u001b[0m\u001b[1;33m(\u001b[0m\u001b[0minputs\u001b[0m\u001b[1;33m)\u001b[0m\u001b[1;33m\u001b[0m\u001b[1;33m\u001b[0m\u001b[0m\n\u001b[0;32m   2714\u001b[0m \u001b[1;33m\u001b[0m\u001b[0m\n\u001b[1;32m-> 2715\u001b[1;33m             \u001b[1;32mreturn\u001b[0m \u001b[0mself\u001b[0m\u001b[1;33m.\u001b[0m\u001b[0m_call\u001b[0m\u001b[1;33m(\u001b[0m\u001b[0minputs\u001b[0m\u001b[1;33m)\u001b[0m\u001b[1;33m\u001b[0m\u001b[1;33m\u001b[0m\u001b[0m\n\u001b[0m\u001b[0;32m   2716\u001b[0m         \u001b[1;32melse\u001b[0m\u001b[1;33m:\u001b[0m\u001b[1;33m\u001b[0m\u001b[1;33m\u001b[0m\u001b[0m\n\u001b[0;32m   2717\u001b[0m             \u001b[1;32mif\u001b[0m \u001b[0mpy_any\u001b[0m\u001b[1;33m(\u001b[0m\u001b[0mis_tensor\u001b[0m\u001b[1;33m(\u001b[0m\u001b[0mx\u001b[0m\u001b[1;33m)\u001b[0m \u001b[1;32mfor\u001b[0m \u001b[0mx\u001b[0m \u001b[1;32min\u001b[0m \u001b[0minputs\u001b[0m\u001b[1;33m)\u001b[0m\u001b[1;33m:\u001b[0m\u001b[1;33m\u001b[0m\u001b[1;33m\u001b[0m\u001b[0m\n",
      "\u001b[1;32m~\\AppData\\Roaming\\Python\\Python36\\site-packages\\keras\\backend\\tensorflow_backend.py\u001b[0m in \u001b[0;36m_call\u001b[1;34m(self, inputs)\u001b[0m\n\u001b[0;32m   2653\u001b[0m                 array_vals.append(\n\u001b[0;32m   2654\u001b[0m                     np.asarray(value,\n\u001b[1;32m-> 2655\u001b[1;33m                                dtype=tf.as_dtype(tensor.dtype).as_numpy_dtype))\n\u001b[0m\u001b[0;32m   2656\u001b[0m         \u001b[1;32mif\u001b[0m \u001b[0mself\u001b[0m\u001b[1;33m.\u001b[0m\u001b[0mfeed_dict\u001b[0m\u001b[1;33m:\u001b[0m\u001b[1;33m\u001b[0m\u001b[1;33m\u001b[0m\u001b[0m\n\u001b[0;32m   2657\u001b[0m             \u001b[1;32mfor\u001b[0m \u001b[0mkey\u001b[0m \u001b[1;32min\u001b[0m \u001b[0msorted\u001b[0m\u001b[1;33m(\u001b[0m\u001b[0mself\u001b[0m\u001b[1;33m.\u001b[0m\u001b[0mfeed_dict\u001b[0m\u001b[1;33m.\u001b[0m\u001b[0mkeys\u001b[0m\u001b[1;33m(\u001b[0m\u001b[1;33m)\u001b[0m\u001b[1;33m)\u001b[0m\u001b[1;33m:\u001b[0m\u001b[1;33m\u001b[0m\u001b[1;33m\u001b[0m\u001b[0m\n",
      "\u001b[1;32mc:\\users\\user\\appdata\\local\\programs\\python\\python36\\lib\\site-packages\\numpy\\core\\numeric.py\u001b[0m in \u001b[0;36masarray\u001b[1;34m(a, dtype, order)\u001b[0m\n\u001b[0;32m    536\u001b[0m \u001b[1;33m\u001b[0m\u001b[0m\n\u001b[0;32m    537\u001b[0m     \"\"\"\n\u001b[1;32m--> 538\u001b[1;33m     \u001b[1;32mreturn\u001b[0m \u001b[0marray\u001b[0m\u001b[1;33m(\u001b[0m\u001b[0ma\u001b[0m\u001b[1;33m,\u001b[0m \u001b[0mdtype\u001b[0m\u001b[1;33m,\u001b[0m \u001b[0mcopy\u001b[0m\u001b[1;33m=\u001b[0m\u001b[1;32mFalse\u001b[0m\u001b[1;33m,\u001b[0m \u001b[0morder\u001b[0m\u001b[1;33m=\u001b[0m\u001b[0morder\u001b[0m\u001b[1;33m)\u001b[0m\u001b[1;33m\u001b[0m\u001b[1;33m\u001b[0m\u001b[0m\n\u001b[0m\u001b[0;32m    539\u001b[0m \u001b[1;33m\u001b[0m\u001b[0m\n\u001b[0;32m    540\u001b[0m \u001b[1;33m\u001b[0m\u001b[0m\n",
      "\u001b[1;31mKeyboardInterrupt\u001b[0m: "
     ]
    }
   ],
   "source": [
    "model.fit(x, y, epochs=20)"
   ]
  },
  {
   "cell_type": "code",
   "execution_count": 115,
   "metadata": {},
   "outputs": [],
   "source": [
    "x_plot = x.reshape(1000, 2600)"
   ]
  },
  {
   "cell_type": "code",
   "execution_count": 116,
   "metadata": {},
   "outputs": [],
   "source": [
    "x2 = median_bin(np.arange(len(x[2])), x[2], num_bins=300, normalize=0)\n",
    "x22 = average_bin(np.arange(len(x[2])), x[2], num_bins=300, normalize=0)"
   ]
  },
  {
   "cell_type": "code",
   "execution_count": 117,
   "metadata": {},
   "outputs": [
    {
     "data": {
      "text/plain": [
       "[<matplotlib.lines.Line2D at 0x1e2f41ee828>]"
      ]
     },
     "execution_count": 117,
     "metadata": {},
     "output_type": "execute_result"
    },
    {
     "data": {
      "image/png": "[encoded data removed]",
      "text/plain": [
       "<Figure size 432x288 with 1 Axes>"
      ]
     },
     "metadata": {
      "needs_background": "light"
     },
     "output_type": "display_data"
    }
   ],
   "source": [
    "plt.plot(x2)"
   ]
  },
  {
   "cell_type": "code",
   "execution_count": 83,
   "metadata": {},
   "outputs": [
    {
     "data": {
      "text/plain": [
       "[<matplotlib.lines.Line2D at 0x1e293a81f28>]"
      ]
     },
     "execution_count": 83,
     "metadata": {},
     "output_type": "execute_result"
    },
    {
     "data": {
      "image/png": "[encoded data removed]",
      "text/plain": [
       "<Figure size 432x288 with 1 Axes>"
      ]
     },
     "metadata": {
      "needs_background": "light"
     },
     "output_type": "display_data"
    }
   ],
   "source": [
    "plt.plot(x22)"
   ]
  },
  {
   "cell_type": "code",
   "execution_count": 101,
   "metadata": {},
   "outputs": [
    {
     "data": {
      "text/plain": [
       "[<matplotlib.lines.Line2D at 0x18d0286ff98>]"
      ]
     },
     "execution_count": 101,
     "metadata": {},
     "output_type": "execute_result"
    },
    {
     "data": {
      "image/png": "[encoded data removed]",
      "text/plain": [
       "<Figure size 432x288 with 1 Axes>"
      ]
     },
     "metadata": {
      "needs_background": "light"
     },
     "output_type": "display_data"
    }
   ],
   "source": [
    "plt.plot(x[2])"
   ]
  },
  {
   "cell_type": "code",
   "execution_count": null,
   "metadata": {},
   "outputs": [],
   "source": []
  },
  {
   "cell_type": "code",
   "execution_count": 107,
   "metadata": {},
   "outputs": [],
   "source": [
    "val_name = \"C:/Users/User/Desktop/go_download/val_sets_v1.csv\"\n",
    "df = getIthBatch(val_name, 1000, 2000, split_train_test=0)"
   ]
  },
  {
   "cell_type": "code",
   "execution_count": 108,
   "metadata": {},
   "outputs": [],
   "source": [
    "val_x = df.values[:, :-1]\n",
    "val_x = np.array(\n",
    "            [average_bin(np.arange(2600), xi, num_bins=300, normalize=False) for xi in val_x])"
   ]
  },
  {
   "cell_type": "code",
   "execution_count": 109,
   "metadata": {},
   "outputs": [],
   "source": [
    "val_x = val_x.reshape(*val_x.shape, 1)"
   ]
  },
  {
   "cell_type": "code",
   "execution_count": 110,
   "metadata": {},
   "outputs": [],
   "source": [
    "val_y = getIthBatch(\"C:/Users/User/Desktop/go_download/val_labels_v1.csv\", 1000, 2000,               \n",
    "                    split_train_test=0).values\n",
    "val_y = val_y[:, -1]"
   ]
  },
  {
   "cell_type": "code",
   "execution_count": 161,
   "metadata": {},
   "outputs": [
    {
     "data": {
      "text/plain": [
       "(0.6674149779259205, 0.8255)"
      ]
     },
     "execution_count": 161,
     "metadata": {},
     "output_type": "execute_result"
    }
   ],
   "source": [
    "pred = model.predict(val_x)\n",
    "f1(val_y, pred), get_precision(val_y, pred)"
   ]
  },
  {
   "cell_type": "code",
   "execution_count": 162,
   "metadata": {},
   "outputs": [
    {
     "data": {
      "text/plain": [
       "(0.9844002127893016, 0.954)"
      ]
     },
     "execution_count": 162,
     "metadata": {},
     "output_type": "execute_result"
    }
   ],
   "source": [
    "pred = model.predict(x)\n",
    "f1(y, pred), get_precision(y, pred)"
   ]
  },
  {
   "cell_type": "code",
   "execution_count": 25,
   "metadata": {},
   "outputs": [],
   "source": []
  },
  {
   "cell_type": "code",
   "execution_count": 26,
   "metadata": {},
   "outputs": [],
   "source": [
    "y = encode_names(y)"
   ]
  },
  {
   "cell_type": "code",
   "execution_count": null,
   "metadata": {},
   "outputs": [],
   "source": []
  },
  {
   "cell_type": "code",
   "execution_count": 154,
   "metadata": {},
   "outputs": [],
   "source": [
    "test = temp.iloc[:, :-1]"
   ]
  },
  {
   "cell_type": "code",
   "execution_count": 155,
   "metadata": {},
   "outputs": [],
   "source": [
    "test = test[test.iloc[:, -1] != \"answer\"]"
   ]
  },
  {
   "cell_type": "code",
   "execution_count": 25,
   "metadata": {},
   "outputs": [
    {
     "ename": "NameError",
     "evalue": "name 'pred' is not defined",
     "output_type": "error",
     "traceback": [
      "\u001b[1;31m---------------------------------------------------------------------------\u001b[0m",
      "\u001b[1;31mNameError\u001b[0m                                 Traceback (most recent call last)",
      "\u001b[1;32m<ipython-input-25-c6fc79dbd350>\u001b[0m in \u001b[0;36m<module>\u001b[1;34m\u001b[0m\n\u001b[1;32m----> 1\u001b[1;33m \u001b[0mpred\u001b[0m\u001b[1;33m\u001b[0m\u001b[1;33m\u001b[0m\u001b[0m\n\u001b[0m",
      "\u001b[1;31mNameError\u001b[0m: name 'pred' is not defined"
     ]
    }
   ],
   "source": []
  },
  {
   "cell_type": "code",
   "execution_count": 87,
   "metadata": {},
   "outputs": [
    {
     "ename": "KeyboardInterrupt",
     "evalue": "",
     "output_type": "error",
     "traceback": [
      "\u001b[1;31m---------------------------------------------------------------------------\u001b[0m",
      "\u001b[1;31mKeyboardInterrupt\u001b[0m                         Traceback (most recent call last)",
      "\u001b[1;32m<ipython-input-87-96f82349bdb9>\u001b[0m in \u001b[0;36m<module>\u001b[1;34m\u001b[0m\n\u001b[1;32m----> 1\u001b[1;33m \u001b[0mtest_x\u001b[0m\u001b[1;33m,\u001b[0m \u001b[0mtest_y\u001b[0m \u001b[1;33m=\u001b[0m \u001b[0mgetIthBatch\u001b[0m\u001b[1;33m(\u001b[0m\u001b[0mfname\u001b[0m\u001b[1;33m,\u001b[0m \u001b[1;36m573470\u001b[0m\u001b[1;33m)\u001b[0m\u001b[1;33m\u001b[0m\u001b[1;33m\u001b[0m\u001b[0m\n\u001b[0m",
      "\u001b[1;32m~\\Desktop\\go_download\\scripts\\data_utils.py\u001b[0m in \u001b[0;36mgetIthBatch\u001b[1;34m(fname, start, nrows, split_train_test)\u001b[0m\n\u001b[0;32m     18\u001b[0m \u001b[1;33m\u001b[0m\u001b[0m\n\u001b[0;32m     19\u001b[0m     df = pd.read_csv(fname, engine='python', nrows=nrows,\n\u001b[1;32m---> 20\u001b[1;33m                      skiprows=start, header=None)\n\u001b[0m\u001b[0;32m     21\u001b[0m \u001b[1;33m\u001b[0m\u001b[0m\n\u001b[0;32m     22\u001b[0m     \u001b[1;32mif\u001b[0m \u001b[1;32mnot\u001b[0m \u001b[0msplit_train_test\u001b[0m\u001b[1;33m:\u001b[0m\u001b[1;33m\u001b[0m\u001b[1;33m\u001b[0m\u001b[0m\n",
      "\u001b[1;32m~\\AppData\\Roaming\\Python\\Python36\\site-packages\\pandas\\io\\parsers.py\u001b[0m in \u001b[0;36mparser_f\u001b[1;34m(filepath_or_buffer, sep, delimiter, header, names, index_col, usecols, squeeze, prefix, mangle_dupe_cols, dtype, engine, converters, true_values, false_values, skipinitialspace, skiprows, skipfooter, nrows, na_values, keep_default_na, na_filter, verbose, skip_blank_lines, parse_dates, infer_datetime_format, keep_date_col, date_parser, dayfirst, iterator, chunksize, compression, thousands, decimal, lineterminator, quotechar, quoting, doublequote, escapechar, comment, encoding, dialect, tupleize_cols, error_bad_lines, warn_bad_lines, delim_whitespace, low_memory, memory_map, float_precision)\u001b[0m\n\u001b[0;32m    700\u001b[0m                     skip_blank_lines=skip_blank_lines)\n\u001b[0;32m    701\u001b[0m \u001b[1;33m\u001b[0m\u001b[0m\n\u001b[1;32m--> 702\u001b[1;33m         \u001b[1;32mreturn\u001b[0m \u001b[0m_read\u001b[0m\u001b[1;33m(\u001b[0m\u001b[0mfilepath_or_buffer\u001b[0m\u001b[1;33m,\u001b[0m \u001b[0mkwds\u001b[0m\u001b[1;33m)\u001b[0m\u001b[1;33m\u001b[0m\u001b[1;33m\u001b[0m\u001b[0m\n\u001b[0m\u001b[0;32m    703\u001b[0m \u001b[1;33m\u001b[0m\u001b[0m\n\u001b[0;32m    704\u001b[0m     \u001b[0mparser_f\u001b[0m\u001b[1;33m.\u001b[0m\u001b[0m__name__\u001b[0m \u001b[1;33m=\u001b[0m \u001b[0mname\u001b[0m\u001b[1;33m\u001b[0m\u001b[1;33m\u001b[0m\u001b[0m\n",
      "\u001b[1;32m~\\AppData\\Roaming\\Python\\Python36\\site-packages\\pandas\\io\\parsers.py\u001b[0m in \u001b[0;36m_read\u001b[1;34m(filepath_or_buffer, kwds)\u001b[0m\n\u001b[0;32m    427\u001b[0m \u001b[1;33m\u001b[0m\u001b[0m\n\u001b[0;32m    428\u001b[0m     \u001b[1;31m# Create the parser.\u001b[0m\u001b[1;33m\u001b[0m\u001b[1;33m\u001b[0m\u001b[1;33m\u001b[0m\u001b[0m\n\u001b[1;32m--> 429\u001b[1;33m     \u001b[0mparser\u001b[0m \u001b[1;33m=\u001b[0m \u001b[0mTextFileReader\u001b[0m\u001b[1;33m(\u001b[0m\u001b[0mfilepath_or_buffer\u001b[0m\u001b[1;33m,\u001b[0m \u001b[1;33m**\u001b[0m\u001b[0mkwds\u001b[0m\u001b[1;33m)\u001b[0m\u001b[1;33m\u001b[0m\u001b[1;33m\u001b[0m\u001b[0m\n\u001b[0m\u001b[0;32m    430\u001b[0m \u001b[1;33m\u001b[0m\u001b[0m\n\u001b[0;32m    431\u001b[0m     \u001b[1;32mif\u001b[0m \u001b[0mchunksize\u001b[0m \u001b[1;32mor\u001b[0m \u001b[0miterator\u001b[0m\u001b[1;33m:\u001b[0m\u001b[1;33m\u001b[0m\u001b[1;33m\u001b[0m\u001b[0m\n",
      "\u001b[1;32m~\\AppData\\Roaming\\Python\\Python36\\site-packages\\pandas\\io\\parsers.py\u001b[0m in \u001b[0;36m__init__\u001b[1;34m(self, f, engine, **kwds)\u001b[0m\n\u001b[0;32m    893\u001b[0m             \u001b[0mself\u001b[0m\u001b[1;33m.\u001b[0m\u001b[0moptions\u001b[0m\u001b[1;33m[\u001b[0m\u001b[1;34m'has_index_names'\u001b[0m\u001b[1;33m]\u001b[0m \u001b[1;33m=\u001b[0m \u001b[0mkwds\u001b[0m\u001b[1;33m[\u001b[0m\u001b[1;34m'has_index_names'\u001b[0m\u001b[1;33m]\u001b[0m\u001b[1;33m\u001b[0m\u001b[1;33m\u001b[0m\u001b[0m\n\u001b[0;32m    894\u001b[0m \u001b[1;33m\u001b[0m\u001b[0m\n\u001b[1;32m--> 895\u001b[1;33m         \u001b[0mself\u001b[0m\u001b[1;33m.\u001b[0m\u001b[0m_make_engine\u001b[0m\u001b[1;33m(\u001b[0m\u001b[0mself\u001b[0m\u001b[1;33m.\u001b[0m\u001b[0mengine\u001b[0m\u001b[1;33m)\u001b[0m\u001b[1;33m\u001b[0m\u001b[1;33m\u001b[0m\u001b[0m\n\u001b[0m\u001b[0;32m    896\u001b[0m \u001b[1;33m\u001b[0m\u001b[0m\n\u001b[0;32m    897\u001b[0m     \u001b[1;32mdef\u001b[0m \u001b[0mclose\u001b[0m\u001b[1;33m(\u001b[0m\u001b[0mself\u001b[0m\u001b[1;33m)\u001b[0m\u001b[1;33m:\u001b[0m\u001b[1;33m\u001b[0m\u001b[1;33m\u001b[0m\u001b[0m\n",
      "\u001b[1;32m~\\AppData\\Roaming\\Python\\Python36\\site-packages\\pandas\\io\\parsers.py\u001b[0m in \u001b[0;36m_make_engine\u001b[1;34m(self, engine)\u001b[0m\n\u001b[0;32m   1130\u001b[0m                                  ' \"c\", \"python\", or' ' \"python-fwf\")'.format(\n\u001b[0;32m   1131\u001b[0m                                      engine=engine))\n\u001b[1;32m-> 1132\u001b[1;33m             \u001b[0mself\u001b[0m\u001b[1;33m.\u001b[0m\u001b[0m_engine\u001b[0m \u001b[1;33m=\u001b[0m \u001b[0mklass\u001b[0m\u001b[1;33m(\u001b[0m\u001b[0mself\u001b[0m\u001b[1;33m.\u001b[0m\u001b[0mf\u001b[0m\u001b[1;33m,\u001b[0m \u001b[1;33m**\u001b[0m\u001b[0mself\u001b[0m\u001b[1;33m.\u001b[0m\u001b[0moptions\u001b[0m\u001b[1;33m)\u001b[0m\u001b[1;33m\u001b[0m\u001b[1;33m\u001b[0m\u001b[0m\n\u001b[0m\u001b[0;32m   1133\u001b[0m \u001b[1;33m\u001b[0m\u001b[0m\n\u001b[0;32m   1134\u001b[0m     \u001b[1;32mdef\u001b[0m \u001b[0m_failover_to_python\u001b[0m\u001b[1;33m(\u001b[0m\u001b[0mself\u001b[0m\u001b[1;33m)\u001b[0m\u001b[1;33m:\u001b[0m\u001b[1;33m\u001b[0m\u001b[1;33m\u001b[0m\u001b[0m\n",
      "\u001b[1;32m~\\AppData\\Roaming\\Python\\Python36\\site-packages\\pandas\\io\\parsers.py\u001b[0m in \u001b[0;36m__init__\u001b[1;34m(self, f, **kwds)\u001b[0m\n\u001b[0;32m   2236\u001b[0m         \u001b[0mself\u001b[0m\u001b[1;33m.\u001b[0m\u001b[0m_col_indices\u001b[0m \u001b[1;33m=\u001b[0m \u001b[1;32mNone\u001b[0m\u001b[1;33m\u001b[0m\u001b[1;33m\u001b[0m\u001b[0m\n\u001b[0;32m   2237\u001b[0m         (self.columns, self.num_original_columns,\n\u001b[1;32m-> 2238\u001b[1;33m          self.unnamed_cols) = self._infer_columns()\n\u001b[0m\u001b[0;32m   2239\u001b[0m \u001b[1;33m\u001b[0m\u001b[0m\n\u001b[0;32m   2240\u001b[0m         \u001b[1;31m# Now self.columns has the set of columns that we will process.\u001b[0m\u001b[1;33m\u001b[0m\u001b[1;33m\u001b[0m\u001b[1;33m\u001b[0m\u001b[0m\n",
      "\u001b[1;32m~\\AppData\\Roaming\\Python\\Python36\\site-packages\\pandas\\io\\parsers.py\u001b[0m in \u001b[0;36m_infer_columns\u001b[1;34m(self)\u001b[0m\n\u001b[0;32m   2612\u001b[0m         \u001b[1;32melse\u001b[0m\u001b[1;33m:\u001b[0m\u001b[1;33m\u001b[0m\u001b[1;33m\u001b[0m\u001b[0m\n\u001b[0;32m   2613\u001b[0m             \u001b[1;32mtry\u001b[0m\u001b[1;33m:\u001b[0m\u001b[1;33m\u001b[0m\u001b[1;33m\u001b[0m\u001b[0m\n\u001b[1;32m-> 2614\u001b[1;33m                 \u001b[0mline\u001b[0m \u001b[1;33m=\u001b[0m \u001b[0mself\u001b[0m\u001b[1;33m.\u001b[0m\u001b[0m_buffered_line\u001b[0m\u001b[1;33m(\u001b[0m\u001b[1;33m)\u001b[0m\u001b[1;33m\u001b[0m\u001b[1;33m\u001b[0m\u001b[0m\n\u001b[0m\u001b[0;32m   2615\u001b[0m \u001b[1;33m\u001b[0m\u001b[0m\n\u001b[0;32m   2616\u001b[0m             \u001b[1;32mexcept\u001b[0m \u001b[0mStopIteration\u001b[0m\u001b[1;33m:\u001b[0m\u001b[1;33m\u001b[0m\u001b[1;33m\u001b[0m\u001b[0m\n",
      "\u001b[1;32m~\\AppData\\Roaming\\Python\\Python36\\site-packages\\pandas\\io\\parsers.py\u001b[0m in \u001b[0;36m_buffered_line\u001b[1;34m(self)\u001b[0m\n\u001b[0;32m   2687\u001b[0m             \u001b[1;32mreturn\u001b[0m \u001b[0mself\u001b[0m\u001b[1;33m.\u001b[0m\u001b[0mbuf\u001b[0m\u001b[1;33m[\u001b[0m\u001b[1;36m0\u001b[0m\u001b[1;33m]\u001b[0m\u001b[1;33m\u001b[0m\u001b[1;33m\u001b[0m\u001b[0m\n\u001b[0;32m   2688\u001b[0m         \u001b[1;32melse\u001b[0m\u001b[1;33m:\u001b[0m\u001b[1;33m\u001b[0m\u001b[1;33m\u001b[0m\u001b[0m\n\u001b[1;32m-> 2689\u001b[1;33m             \u001b[1;32mreturn\u001b[0m \u001b[0mself\u001b[0m\u001b[1;33m.\u001b[0m\u001b[0m_next_line\u001b[0m\u001b[1;33m(\u001b[0m\u001b[1;33m)\u001b[0m\u001b[1;33m\u001b[0m\u001b[1;33m\u001b[0m\u001b[0m\n\u001b[0m\u001b[0;32m   2690\u001b[0m \u001b[1;33m\u001b[0m\u001b[0m\n\u001b[0;32m   2691\u001b[0m     \u001b[1;32mdef\u001b[0m \u001b[0m_check_for_bom\u001b[0m\u001b[1;33m(\u001b[0m\u001b[0mself\u001b[0m\u001b[1;33m,\u001b[0m \u001b[0mfirst_row\u001b[0m\u001b[1;33m)\u001b[0m\u001b[1;33m:\u001b[0m\u001b[1;33m\u001b[0m\u001b[1;33m\u001b[0m\u001b[0m\n",
      "\u001b[1;32m~\\AppData\\Roaming\\Python\\Python36\\site-packages\\pandas\\io\\parsers.py\u001b[0m in \u001b[0;36m_next_line\u001b[1;34m(self)\u001b[0m\n\u001b[0;32m   2789\u001b[0m             \u001b[1;32mwhile\u001b[0m \u001b[0mself\u001b[0m\u001b[1;33m.\u001b[0m\u001b[0mskipfunc\u001b[0m\u001b[1;33m(\u001b[0m\u001b[0mself\u001b[0m\u001b[1;33m.\u001b[0m\u001b[0mpos\u001b[0m\u001b[1;33m)\u001b[0m\u001b[1;33m:\u001b[0m\u001b[1;33m\u001b[0m\u001b[1;33m\u001b[0m\u001b[0m\n\u001b[0;32m   2790\u001b[0m                 \u001b[0mself\u001b[0m\u001b[1;33m.\u001b[0m\u001b[0mpos\u001b[0m \u001b[1;33m+=\u001b[0m \u001b[1;36m1\u001b[0m\u001b[1;33m\u001b[0m\u001b[1;33m\u001b[0m\u001b[0m\n\u001b[1;32m-> 2791\u001b[1;33m                 \u001b[0mnext\u001b[0m\u001b[1;33m(\u001b[0m\u001b[0mself\u001b[0m\u001b[1;33m.\u001b[0m\u001b[0mdata\u001b[0m\u001b[1;33m)\u001b[0m\u001b[1;33m\u001b[0m\u001b[1;33m\u001b[0m\u001b[0m\n\u001b[0m\u001b[0;32m   2792\u001b[0m \u001b[1;33m\u001b[0m\u001b[0m\n\u001b[0;32m   2793\u001b[0m             \u001b[1;32mwhile\u001b[0m \u001b[1;32mTrue\u001b[0m\u001b[1;33m:\u001b[0m\u001b[1;33m\u001b[0m\u001b[1;33m\u001b[0m\u001b[0m\n",
      "\u001b[1;31mKeyboardInterrupt\u001b[0m: "
     ]
    }
   ],
   "source": [
    "test_x, test_y = getIthBatch(fname, 30)"
   ]
  },
  {
   "cell_type": "code",
   "execution_count": 166,
   "metadata": {},
   "outputs": [],
   "source": [
    "val_df = pd.read_csv(val_name)"
   ]
  },
  {
   "cell_type": "code",
   "execution_count": 168,
   "metadata": {},
   "outputs": [],
   "source": [
    "val_y_name = \"C:/Users/User/Desktop/go_download/val_labels_v1.csv\"\n",
    "val_df_y = pd.read_csv(val_y_name)\n",
    "val_df_x = val_df"
   ]
  },
  {
   "cell_type": "code",
   "execution_count": 190,
   "metadata": {},
   "outputs": [],
   "source": [
    "vx = val_df_x\n",
    "vy = val_df_y"
   ]
  },
  {
   "cell_type": "code",
   "execution_count": 191,
   "metadata": {},
   "outputs": [],
   "source": [
    "vx = vx.iloc[:, :-1].values"
   ]
  },
  {
   "cell_type": "code",
   "execution_count": 196,
   "metadata": {},
   "outputs": [],
   "source": [
    "vy = vy['label'].values\n",
    "vy = encode_names(vy)"
   ]
  },
  {
   "cell_type": "code",
   "execution_count": 192,
   "metadata": {},
   "outputs": [],
   "source": [
    "vx = np.array([average_bin(np.arange(2600), vxi, num_bins=300) for vxi in vx])\n",
    "vx = vx.reshape(*vx.shape, 1)"
   ]
  },
  {
   "cell_type": "code",
   "execution_count": 199,
   "metadata": {},
   "outputs": [],
   "source": [
    "v_pred = model.predict(vx)"
   ]
  },
  {
   "cell_type": "code",
   "execution_count": 201,
   "metadata": {},
   "outputs": [
    {
     "data": {
      "text/plain": [
       "0.9812930166191036"
      ]
     },
     "execution_count": 201,
     "metadata": {},
     "output_type": "execute_result"
    }
   ],
   "source": [
    "get_precision(vy, v_pred)"
   ]
  },
  {
   "cell_type": "code",
   "execution_count": 203,
   "metadata": {},
   "outputs": [
    {
     "data": {
      "text/plain": [
       "0.9937228843449818"
      ]
     },
     "execution_count": 203,
     "metadata": {},
     "output_type": "execute_result"
    }
   ],
   "source": [
    "f1(vy, v_pred)"
   ]
  },
  {
   "cell_type": "code",
   "execution_count": 204,
   "metadata": {},
   "outputs": [],
   "source": [
    "model.save(\"C:/Users/User/Desktop/resNet.h5\")"
   ]
  }
 ],
 "metadata": {
  "kernelspec": {
   "display_name": "Python 3",
   "language": "python",
   "name": "python3"
  },
  "language_info": {
   "codemirror_mode": {
    "name": "ipython",
    "version": 3
   },
   "file_extension": ".py",
   "mimetype": "text/x-python",
   "name": "python",
   "nbconvert_exporter": "python",
   "pygments_lexer": "ipython3",
   "version": "3.6.8"
  }
 },
 "nbformat": 4,
 "nbformat_minor": 2
}
