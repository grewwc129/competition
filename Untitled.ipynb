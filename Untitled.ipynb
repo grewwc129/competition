{
 "cells": [
  {
   "cell_type": "code",
   "execution_count": 1,
   "metadata": {},
   "outputs": [
    {
     "name": "stderr",
     "output_type": "stream",
     "text": [
      "Using TensorFlow backend.\n"
     ]
    }
   ],
   "source": [
    "import keras \n",
    "import tensorflow as tf \n",
    "from keras.models import *\n",
    "from keras.layers import * \n",
    "import keras.backend as K \n",
    "\n",
    "%load_ext autoreload\n",
    "%autoreload 2"
   ]
  },
  {
   "cell_type": "code",
   "execution_count": 7,
   "metadata": {},
   "outputs": [],
   "source": [
    "from scripts.data_utils import *\n",
    "from scripts.nn_resnet import *\n",
    "from scripts.config import config \n",
    "from scripts.general_utils import* \n",
    "from scripts.assessment import *\n",
    "from scripts.maths import *\n",
    "import matplotlib.pyplot as plt \n",
    "\n",
    "fname = 'update_new_columns_trains_sets.csv'"
   ]
  },
  {
   "cell_type": "code",
   "execution_count": 3,
   "metadata": {},
   "outputs": [
    {
     "name": "stderr",
     "output_type": "stream",
     "text": [
      "WARNING: Logging before flag parsing goes to stderr.\n",
      "W0214 02:05:15.942724 12064 deprecation_wrapper.py:119] From C:\\Users\\User\\AppData\\Roaming\\Python\\Python36\\site-packages\\keras\\backend\\tensorflow_backend.py:517: The name tf.placeholder is deprecated. Please use tf.compat.v1.placeholder instead.\n",
      "\n",
      "W0214 02:05:16.017518 12064 deprecation_wrapper.py:119] From C:\\Users\\User\\AppData\\Roaming\\Python\\Python36\\site-packages\\keras\\backend\\tensorflow_backend.py:4185: The name tf.truncated_normal is deprecated. Please use tf.random.truncated_normal instead.\n",
      "\n",
      "W0214 02:05:16.116274 12064 deprecation_wrapper.py:119] From C:\\Users\\User\\AppData\\Roaming\\Python\\Python36\\site-packages\\keras\\backend\\tensorflow_backend.py:131: The name tf.get_default_graph is deprecated. Please use tf.compat.v1.get_default_graph instead.\n",
      "\n",
      "W0214 02:05:16.116274 12064 deprecation_wrapper.py:119] From C:\\Users\\User\\AppData\\Roaming\\Python\\Python36\\site-packages\\keras\\backend\\tensorflow_backend.py:133: The name tf.placeholder_with_default is deprecated. Please use tf.compat.v1.placeholder_with_default instead.\n",
      "\n",
      "W0214 02:05:16.167464 12064 deprecation_wrapper.py:119] From C:\\Users\\User\\AppData\\Roaming\\Python\\Python36\\site-packages\\keras\\backend\\tensorflow_backend.py:3976: The name tf.nn.max_pool is deprecated. Please use tf.nn.max_pool2d instead.\n",
      "\n",
      "W0214 02:05:19.127260 12064 deprecation_wrapper.py:119] From C:\\Users\\User\\AppData\\Roaming\\Python\\Python36\\site-packages\\keras\\backend\\tensorflow_backend.py:4138: The name tf.random_uniform is deprecated. Please use tf.random.uniform instead.\n",
      "\n",
      "W0214 02:05:24.918063 12064 deprecation_wrapper.py:119] From C:\\Users\\User\\AppData\\Roaming\\Python\\Python36\\site-packages\\keras\\optimizers.py:790: The name tf.train.Optimizer is deprecated. Please use tf.compat.v1.train.Optimizer instead.\n",
      "\n",
      "W0214 02:05:25.368228 12064 deprecation.py:323] From c:\\users\\user\\appdata\\local\\programs\\python\\python36\\lib\\site-packages\\tensorflow\\python\\ops\\math_grad.py:1250: add_dispatch_support.<locals>.wrapper (from tensorflow.python.ops.array_ops) is deprecated and will be removed in a future version.\n",
      "Instructions for updating:\n",
      "Use tf.where in 2.0, which has the same broadcast rule as np.where\n"
     ]
    }
   ],
   "source": [
    "# model = resnet(3, (300, 1))\n",
    "model = load_model(\"C:/Users/User/Desktop/resNet.h5\")"
   ]
  },
  {
   "cell_type": "code",
   "execution_count": 18,
   "metadata": {},
   "outputs": [
    {
     "data": {
      "text/plain": [
       "<keras.engine.training.Model at 0x27d2008c630>"
      ]
     },
     "execution_count": 18,
     "metadata": {},
     "output_type": "execute_result"
    }
   ],
   "source": [
    "set_lr(model, 0.9e-4)"
   ]
  },
  {
   "cell_type": "code",
   "execution_count": null,
   "metadata": {},
   "outputs": [
    {
     "name": "stdout",
     "output_type": "stream",
     "text": [
      "##############################\n",
      "iteration: 0\n",
      "******************************\n",
      "iteration: 0, count: 1\n",
      "Epoch 1/15\n",
      "16383/16383 [==============================] - 32s 2ms/step - loss: 0.0170 - acc: 0.9960\n",
      "Epoch 2/15\n",
      "16383/16383 [==============================] - 31s 2ms/step - loss: 0.0147 - acc: 0.9971\n",
      "Epoch 3/15\n",
      "16383/16383 [==============================] - 31s 2ms/step - loss: 0.0134 - acc: 0.9974\n",
      "Epoch 4/15\n",
      "16383/16383 [==============================] - 31s 2ms/step - loss: 0.0119 - acc: 0.9977\n",
      "Epoch 5/15\n",
      "16383/16383 [==============================] - 31s 2ms/step - loss: 0.0108 - acc: 0.9982\n",
      "Epoch 6/15\n",
      "16383/16383 [==============================] - 31s 2ms/step - loss: 0.0100 - acc: 0.9986\n",
      "Epoch 7/15\n",
      "16383/16383 [==============================] - 31s 2ms/step - loss: 0.0089 - acc: 0.9988\n",
      "Epoch 8/15\n",
      "16383/16383 [==============================] - 31s 2ms/step - loss: 0.0083 - acc: 0.9988\n",
      "Epoch 9/15\n",
      "16383/16383 [==============================] - 31s 2ms/step - loss: 0.0076 - acc: 0.9995\n",
      "Epoch 10/15\n",
      "16383/16383 [==============================] - 31s 2ms/step - loss: 0.0073 - acc: 0.9993\n",
      "Epoch 11/15\n",
      "16383/16383 [==============================] - 31s 2ms/step - loss: 0.0068 - acc: 0.9995\n",
      "Epoch 12/15\n",
      "16383/16383 [==============================] - 31s 2ms/step - loss: 0.0063 - acc: 0.9998: 1s - loss:\n",
      "Epoch 13/15\n",
      "16383/16383 [==============================] - 31s 2ms/step - loss: 0.0063 - acc: 0.9996: 0s - loss: 0.0063 \n",
      "Epoch 14/15\n",
      "14144/16383 [========================>.....] - ETA: 4s - loss: 0.0056 - acc: 1.0000"
     ]
    }
   ],
   "source": [
    "def train():\n",
    "\n",
    "    batch_size = 1024 * 16\n",
    "    for i in range(10):\n",
    "        if i > 0:\n",
    "            decay_lr(model)\n",
    "        if i == 5:\n",
    "            model.save(\"C:/Users/User/Desktop/resNet_temp.h5\", overwrite=True)\n",
    "        print(\"#\"*30)\n",
    "        print('iteration: {}'.format(i))\n",
    "        df = pd.read_csv(fname, iterator=True)\n",
    "        count = 0\n",
    "        while 1:\n",
    "            try:\n",
    "                cur = df.get_chunk(batch_size)\n",
    "                train_x, train_y = trim_df(cur)\n",
    "                print(\"*\" * 30)\n",
    "                print(\"iteration: {}, count: {}\".format(i, count + 1))\n",
    "                count += 1\n",
    "                model.fit(train_x, train_y, epochs=15)\n",
    "                print(\"*\" * 30)\n",
    "            except StopIteration:\n",
    "                break  \n",
    "                \n",
    "train()"
   ]
  },
  {
   "cell_type": "code",
   "execution_count": 130,
   "metadata": {},
   "outputs": [],
   "source": [
    "df = getIthBatch(fname, 0, 1000, split_train_test=0)\n"
   ]
  },
  {
   "cell_type": "code",
   "execution_count": 138,
   "metadata": {},
   "outputs": [
    {
     "data": {
      "text/html": [
       "<div>\n",
       "<style scoped>\n",
       "    .dataframe tbody tr th:only-of-type {\n",
       "        vertical-align: middle;\n",
       "    }\n",
       "\n",
       "    .dataframe tbody tr th {\n",
       "        vertical-align: top;\n",
       "    }\n",
       "\n",
       "    .dataframe thead th {\n",
       "        text-align: right;\n",
       "    }\n",
       "</style>\n",
       "<table border=\"1\" class=\"dataframe\">\n",
       "  <thead>\n",
       "    <tr style=\"text-align: right;\">\n",
       "      <th></th>\n",
       "      <th>0</th>\n",
       "      <th>1</th>\n",
       "      <th>2</th>\n",
       "      <th>3</th>\n",
       "      <th>4</th>\n",
       "      <th>5</th>\n",
       "      <th>6</th>\n",
       "      <th>7</th>\n",
       "      <th>8</th>\n",
       "      <th>9</th>\n",
       "      <th>...</th>\n",
       "      <th>2592</th>\n",
       "      <th>2593</th>\n",
       "      <th>2594</th>\n",
       "      <th>2595</th>\n",
       "      <th>2596</th>\n",
       "      <th>2597</th>\n",
       "      <th>2598</th>\n",
       "      <th>2599</th>\n",
       "      <th>2600</th>\n",
       "      <th>2601</th>\n",
       "    </tr>\n",
       "  </thead>\n",
       "  <tbody>\n",
       "    <tr>\n",
       "      <th>0</th>\n",
       "      <td>41.167630</td>\n",
       "      <td>128.404863</td>\n",
       "      <td>113.342102</td>\n",
       "      <td>96.332659</td>\n",
       "      <td>155.429838</td>\n",
       "      <td>103.355702</td>\n",
       "      <td>137.708264</td>\n",
       "      <td>37.861562</td>\n",
       "      <td>39.673803</td>\n",
       "      <td>50.543431</td>\n",
       "      <td>...</td>\n",
       "      <td>155.748438</td>\n",
       "      <td>164.905856</td>\n",
       "      <td>152.331062</td>\n",
       "      <td>141.852236</td>\n",
       "      <td>135.080094</td>\n",
       "      <td>133.500859</td>\n",
       "      <td>154.136530</td>\n",
       "      <td>171.568474</td>\n",
       "      <td>star</td>\n",
       "      <td>7dad7234f998192fdbd8183952ef20c8</td>\n",
       "    </tr>\n",
       "    <tr>\n",
       "      <th>1</th>\n",
       "      <td>-346.646602</td>\n",
       "      <td>-171.032817</td>\n",
       "      <td>186.992031</td>\n",
       "      <td>-716.384903</td>\n",
       "      <td>254.621417</td>\n",
       "      <td>732.285840</td>\n",
       "      <td>92.950140</td>\n",
       "      <td>871.351690</td>\n",
       "      <td>-55.170295</td>\n",
       "      <td>-184.566823</td>\n",
       "      <td>...</td>\n",
       "      <td>483.402540</td>\n",
       "      <td>521.284520</td>\n",
       "      <td>542.210809</td>\n",
       "      <td>488.168831</td>\n",
       "      <td>495.515646</td>\n",
       "      <td>519.919761</td>\n",
       "      <td>528.461916</td>\n",
       "      <td>509.382020</td>\n",
       "      <td>star</td>\n",
       "      <td>e7813ce88966dd145ca4a604eb66ad96</td>\n",
       "    </tr>\n",
       "    <tr>\n",
       "      <th>2</th>\n",
       "      <td>2387.394914</td>\n",
       "      <td>2962.318974</td>\n",
       "      <td>3514.910243</td>\n",
       "      <td>3643.305956</td>\n",
       "      <td>3423.303276</td>\n",
       "      <td>3647.917856</td>\n",
       "      <td>3908.737325</td>\n",
       "      <td>3387.910634</td>\n",
       "      <td>2762.518797</td>\n",
       "      <td>2953.116359</td>\n",
       "      <td>...</td>\n",
       "      <td>5165.653546</td>\n",
       "      <td>5118.992689</td>\n",
       "      <td>4951.877510</td>\n",
       "      <td>4634.349520</td>\n",
       "      <td>4406.328902</td>\n",
       "      <td>4472.693075</td>\n",
       "      <td>4795.940878</td>\n",
       "      <td>5121.840348</td>\n",
       "      <td>star</td>\n",
       "      <td>045175f20fb74d88354cd3aa56620542</td>\n",
       "    </tr>\n",
       "    <tr>\n",
       "      <th>3</th>\n",
       "      <td>80.562754</td>\n",
       "      <td>59.513893</td>\n",
       "      <td>69.655255</td>\n",
       "      <td>71.265120</td>\n",
       "      <td>141.805016</td>\n",
       "      <td>48.109098</td>\n",
       "      <td>139.253948</td>\n",
       "      <td>68.265771</td>\n",
       "      <td>90.808146</td>\n",
       "      <td>112.768287</td>\n",
       "      <td>...</td>\n",
       "      <td>48.698369</td>\n",
       "      <td>46.498682</td>\n",
       "      <td>46.400705</td>\n",
       "      <td>43.561856</td>\n",
       "      <td>27.760035</td>\n",
       "      <td>18.326394</td>\n",
       "      <td>25.614916</td>\n",
       "      <td>33.622985</td>\n",
       "      <td>star</td>\n",
       "      <td>2c9879d370ef4d080fde817d87bc2c30</td>\n",
       "    </tr>\n",
       "    <tr>\n",
       "      <th>4</th>\n",
       "      <td>117.760337</td>\n",
       "      <td>20.949811</td>\n",
       "      <td>57.370654</td>\n",
       "      <td>95.891313</td>\n",
       "      <td>104.290857</td>\n",
       "      <td>143.640962</td>\n",
       "      <td>69.819133</td>\n",
       "      <td>78.375157</td>\n",
       "      <td>80.904606</td>\n",
       "      <td>144.822199</td>\n",
       "      <td>...</td>\n",
       "      <td>55.154461</td>\n",
       "      <td>53.332641</td>\n",
       "      <td>49.130921</td>\n",
       "      <td>45.127950</td>\n",
       "      <td>40.212215</td>\n",
       "      <td>42.787378</td>\n",
       "      <td>49.548343</td>\n",
       "      <td>56.441171</td>\n",
       "      <td>star</td>\n",
       "      <td>a1bc6a343ad39d7a8c75a2ae59771eb1</td>\n",
       "    </tr>\n",
       "  </tbody>\n",
       "</table>\n",
       "<p>5 rows × 2602 columns</p>\n",
       "</div>"
      ],
      "text/plain": [
       "          0            1            2            3            4     \\\n",
       "0    41.167630   128.404863   113.342102    96.332659   155.429838   \n",
       "1  -346.646602  -171.032817   186.992031  -716.384903   254.621417   \n",
       "2  2387.394914  2962.318974  3514.910243  3643.305956  3423.303276   \n",
       "3    80.562754    59.513893    69.655255    71.265120   141.805016   \n",
       "4   117.760337    20.949811    57.370654    95.891313   104.290857   \n",
       "\n",
       "          5            6            7            8            9     ...  \\\n",
       "0   103.355702   137.708264    37.861562    39.673803    50.543431  ...   \n",
       "1   732.285840    92.950140   871.351690   -55.170295  -184.566823  ...   \n",
       "2  3647.917856  3908.737325  3387.910634  2762.518797  2953.116359  ...   \n",
       "3    48.109098   139.253948    68.265771    90.808146   112.768287  ...   \n",
       "4   143.640962    69.819133    78.375157    80.904606   144.822199  ...   \n",
       "\n",
       "          2592         2593         2594         2595         2596  \\\n",
       "0   155.748438   164.905856   152.331062   141.852236   135.080094   \n",
       "1   483.402540   521.284520   542.210809   488.168831   495.515646   \n",
       "2  5165.653546  5118.992689  4951.877510  4634.349520  4406.328902   \n",
       "3    48.698369    46.498682    46.400705    43.561856    27.760035   \n",
       "4    55.154461    53.332641    49.130921    45.127950    40.212215   \n",
       "\n",
       "          2597         2598         2599  2600  \\\n",
       "0   133.500859   154.136530   171.568474  star   \n",
       "1   519.919761   528.461916   509.382020  star   \n",
       "2  4472.693075  4795.940878  5121.840348  star   \n",
       "3    18.326394    25.614916    33.622985  star   \n",
       "4    42.787378    49.548343    56.441171  star   \n",
       "\n",
       "                               2601  \n",
       "0  7dad7234f998192fdbd8183952ef20c8  \n",
       "1  e7813ce88966dd145ca4a604eb66ad96  \n",
       "2  045175f20fb74d88354cd3aa56620542  \n",
       "3  2c9879d370ef4d080fde817d87bc2c30  \n",
       "4  a1bc6a343ad39d7a8c75a2ae59771eb1  \n",
       "\n",
       "[5 rows x 2602 columns]"
      ]
     },
     "execution_count": 138,
     "metadata": {},
     "output_type": "execute_result"
    }
   ],
   "source": [
    "df.head()"
   ]
  },
  {
   "cell_type": "code",
   "execution_count": null,
   "metadata": {},
   "outputs": [],
   "source": []
  },
  {
   "cell_type": "code",
   "execution_count": 8,
   "metadata": {},
   "outputs": [],
   "source": [
    "val_name = \"C:/Users/User/Desktop/go_download/val_sets_v1.csv\""
   ]
  },
  {
   "cell_type": "code",
   "execution_count": 9,
   "metadata": {},
   "outputs": [],
   "source": [
    "val_df = pd.read_csv(val_name)"
   ]
  },
  {
   "cell_type": "code",
   "execution_count": 10,
   "metadata": {},
   "outputs": [],
   "source": [
    "val_y_name = \"C:/Users/User/Desktop/go_download/val_labels_v1.csv\"\n",
    "val_df_y = pd.read_csv(val_y_name)\n",
    "val_df_x = val_df"
   ]
  },
  {
   "cell_type": "code",
   "execution_count": 11,
   "metadata": {},
   "outputs": [],
   "source": [
    "vx = val_df_x\n",
    "vy = val_df_y"
   ]
  },
  {
   "cell_type": "code",
   "execution_count": 12,
   "metadata": {},
   "outputs": [],
   "source": [
    "vx = vx.iloc[:, :-1].values"
   ]
  },
  {
   "cell_type": "code",
   "execution_count": 13,
   "metadata": {},
   "outputs": [],
   "source": [
    "vy = vy['label'].values\n",
    "vy = encode_names(vy)"
   ]
  },
  {
   "cell_type": "code",
   "execution_count": 14,
   "metadata": {},
   "outputs": [],
   "source": [
    "# vx = np.array([average_bin(np.arange(2600), vxi, num_bins=300) for vxi in vx])\n",
    "\n",
    "vx = average_bin_faster(vx, 300)\n",
    "vx = vx.reshape(*vx.shape, 1)\n"
   ]
  },
  {
   "cell_type": "code",
   "execution_count": 25,
   "metadata": {},
   "outputs": [],
   "source": [
    "v_pred = model.predict(vx)"
   ]
  },
  {
   "cell_type": "code",
   "execution_count": 26,
   "metadata": {},
   "outputs": [
    {
     "data": {
      "text/plain": [
       "0.9925507805942588"
      ]
     },
     "execution_count": 26,
     "metadata": {},
     "output_type": "execute_result"
    }
   ],
   "source": [
    "get_precision(vy, v_pred)"
   ]
  },
  {
   "cell_type": "code",
   "execution_count": 27,
   "metadata": {},
   "outputs": [
    {
     "data": {
      "text/plain": [
       "0.9709509302401842"
      ]
     },
     "execution_count": 27,
     "metadata": {},
     "output_type": "execute_result"
    }
   ],
   "source": [
    "f1(vy, v_pred)"
   ]
  },
  {
   "cell_type": "code",
   "execution_count": 327,
   "metadata": {},
   "outputs": [],
   "source": [
    "model.save(\"C:/Users/User/Desktop/resNet.h5\", overwrite=True)"
   ]
  },
  {
   "cell_type": "code",
   "execution_count": null,
   "metadata": {},
   "outputs": [],
   "source": []
  },
  {
   "cell_type": "code",
   "execution_count": null,
   "metadata": {},
   "outputs": [],
   "source": []
  },
  {
   "cell_type": "code",
   "execution_count": null,
   "metadata": {},
   "outputs": [],
   "source": []
  },
  {
   "cell_type": "code",
   "execution_count": 277,
   "metadata": {},
   "outputs": [],
   "source": [
    "# for submission "
   ]
  },
  {
   "cell_type": "code",
   "execution_count": 317,
   "metadata": {},
   "outputs": [],
   "source": [
    "v_pred_cls = np.argmax(v_pred, axis=1)"
   ]
  },
  {
   "cell_type": "code",
   "execution_count": 329,
   "metadata": {},
   "outputs": [],
   "source": [
    "val_df_y['pred_cls'] = v_pred_cls"
   ]
  },
  {
   "cell_type": "code",
   "execution_count": 330,
   "metadata": {},
   "outputs": [
    {
     "data": {
      "text/html": [
       "<div>\n",
       "<style scoped>\n",
       "    .dataframe tbody tr th:only-of-type {\n",
       "        vertical-align: middle;\n",
       "    }\n",
       "\n",
       "    .dataframe tbody tr th {\n",
       "        vertical-align: top;\n",
       "    }\n",
       "\n",
       "    .dataframe thead th {\n",
       "        text-align: right;\n",
       "    }\n",
       "</style>\n",
       "<table border=\"1\" class=\"dataframe\">\n",
       "  <thead>\n",
       "    <tr style=\"text-align: right;\">\n",
       "      <th></th>\n",
       "      <th>id</th>\n",
       "      <th>label</th>\n",
       "      <th>pred_cls</th>\n",
       "    </tr>\n",
       "  </thead>\n",
       "  <tbody>\n",
       "    <tr>\n",
       "      <th>0</th>\n",
       "      <td>722747696473587cba8c0395af83a6b8</td>\n",
       "      <td>star</td>\n",
       "      <td>0</td>\n",
       "    </tr>\n",
       "    <tr>\n",
       "      <th>1</th>\n",
       "      <td>52792845f89c6fab5ee96c59668db207</td>\n",
       "      <td>star</td>\n",
       "      <td>0</td>\n",
       "    </tr>\n",
       "    <tr>\n",
       "      <th>2</th>\n",
       "      <td>e896a27eedd00e4fce4c3568376e2d7c</td>\n",
       "      <td>star</td>\n",
       "      <td>0</td>\n",
       "    </tr>\n",
       "    <tr>\n",
       "      <th>3</th>\n",
       "      <td>6b7dcfc98038ba6040c3009e18ab6978</td>\n",
       "      <td>star</td>\n",
       "      <td>0</td>\n",
       "    </tr>\n",
       "    <tr>\n",
       "      <th>4</th>\n",
       "      <td>b8cb7ac768edd4135ad5befffc578a90</td>\n",
       "      <td>star</td>\n",
       "      <td>0</td>\n",
       "    </tr>\n",
       "  </tbody>\n",
       "</table>\n",
       "</div>"
      ],
      "text/plain": [
       "                                 id label  pred_cls\n",
       "0  722747696473587cba8c0395af83a6b8  star         0\n",
       "1  52792845f89c6fab5ee96c59668db207  star         0\n",
       "2  e896a27eedd00e4fce4c3568376e2d7c  star         0\n",
       "3  6b7dcfc98038ba6040c3009e18ab6978  star         0\n",
       "4  b8cb7ac768edd4135ad5befffc578a90  star         0"
      ]
     },
     "execution_count": 330,
     "metadata": {},
     "output_type": "execute_result"
    }
   ],
   "source": [
    "val_df_y.head()"
   ]
  },
  {
   "cell_type": "code",
   "execution_count": 287,
   "metadata": {},
   "outputs": [],
   "source": [
    "def cls_to_name(cls):\n",
    "    if cls == 0:\n",
    "        return 'star'\n",
    "    if cls == 1:\n",
    "        return 'galaxy'\n",
    "    return 'qso'"
   ]
  },
  {
   "cell_type": "code",
   "execution_count": 331,
   "metadata": {},
   "outputs": [],
   "source": [
    "val_df_y['pred_cls'] = val_df_y['pred_cls'].apply(cls_to_name )"
   ]
  },
  {
   "cell_type": "code",
   "execution_count": 344,
   "metadata": {},
   "outputs": [
    {
     "data": {
      "text/plain": [
       "1644"
      ]
     },
     "execution_count": 344,
     "metadata": {},
     "output_type": "execute_result"
    }
   ],
   "source": [
    "diff = val_df_y[val_df_y['pred_cls'] != val_df_y['label']]\n",
    "len(diff)"
   ]
  },
  {
   "cell_type": "code",
   "execution_count": 342,
   "metadata": {},
   "outputs": [],
   "source": [
    "diff_spectrum = val_df.loc[val_df['id'].isin(diff['id'])]"
   ]
  },
  {
   "cell_type": "code",
   "execution_count": 346,
   "metadata": {},
   "outputs": [],
   "source": [
    "diff_spectrum.to_csv(\"C:/Users/User/Desktop/temp/predict_wrong_spectral.csv\")"
   ]
  },
  {
   "cell_type": "code",
   "execution_count": null,
   "metadata": {},
   "outputs": [],
   "source": []
  },
  {
   "cell_type": "code",
   "execution_count": 323,
   "metadata": {},
   "outputs": [],
   "source": [
    "val_df_y['label'] = val_df_y['pred_cls']"
   ]
  },
  {
   "cell_type": "code",
   "execution_count": 325,
   "metadata": {},
   "outputs": [],
   "source": [
    "val_df_y = val_df_y[['id','label']]"
   ]
  },
  {
   "cell_type": "code",
   "execution_count": 326,
   "metadata": {},
   "outputs": [],
   "source": [
    "val_df_y.to_csv(\"C:/Users/User/Desktop/go_download/submit_2 .csv\", index=False)"
   ]
  },
  {
   "cell_type": "code",
   "execution_count": null,
   "metadata": {},
   "outputs": [],
   "source": []
  },
  {
   "cell_type": "code",
   "execution_count": null,
   "metadata": {},
   "outputs": [],
   "source": []
  },
  {
   "cell_type": "code",
   "execution_count": null,
   "metadata": {},
   "outputs": [],
   "source": []
  }
 ],
 "metadata": {
  "kernelspec": {
   "display_name": "Python 3",
   "language": "python",
   "name": "python3"
  },
  "language_info": {
   "codemirror_mode": {
    "name": "ipython",
    "version": 3
   },
   "file_extension": ".py",
   "mimetype": "text/x-python",
   "name": "python",
   "nbconvert_exporter": "python",
   "pygments_lexer": "ipython3",
   "version": "3.6.8"
  }
 },
 "nbformat": 4,
 "nbformat_minor": 2
}
