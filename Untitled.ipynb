{
 "cells": [
  {
   "cell_type": "code",
   "execution_count": 1,
   "metadata": {},
   "outputs": [
    {
     "name": "stderr",
     "output_type": "stream",
     "text": [
      "Using TensorFlow backend.\n"
     ]
    }
   ],
   "source": [
    "import keras \n",
    "import tensorflow as tf \n",
    "from keras.models import *\n",
    "from keras.layers import * \n",
    "import keras.backend as K \n",
    "\n",
    "%load_ext autoreload\n",
    "%autoreload 2"
   ]
  },
  {
   "cell_type": "code",
   "execution_count": 2,
   "metadata": {},
   "outputs": [],
   "source": [
    "from scripts.data_utils import *\n",
    "from scripts.nn_resnet import *\n",
    "from scripts.config import config \n",
    "from scripts.general_utils import* \n",
    "from scripts.assessment import *\n",
    "from scripts.maths import *\n",
    "import matplotlib.pyplot as plt \n",
    "\n",
    "fname = 'update_new_columns_trains_sets.csv'"
   ]
  },
  {
   "cell_type": "code",
   "execution_count": 46,
   "metadata": {},
   "outputs": [],
   "source": [
    "# model = resnet(3, (400, 1))\n",
    "model = load_model(\"C:/Users/User/Desktop/temp_400bins_2.h5\")"
   ]
  },
  {
   "cell_type": "code",
   "execution_count": 48,
   "metadata": {},
   "outputs": [
    {
     "data": {
      "text/plain": [
       "<keras.engine.training.Model at 0x1d3e97746d8>"
      ]
     },
     "execution_count": 48,
     "metadata": {},
     "output_type": "execute_result"
    }
   ],
   "source": [
    "set_lr(model, 1e-4)\n"
   ]
  },
  {
   "cell_type": "code",
   "execution_count": 47,
   "metadata": {},
   "outputs": [
    {
     "data": {
      "text/plain": [
       "2.4499997e-05"
      ]
     },
     "execution_count": 47,
     "metadata": {},
     "output_type": "execute_result"
    }
   ],
   "source": []
  },
  {
   "cell_type": "code",
   "execution_count": null,
   "metadata": {},
   "outputs": [
    {
     "name": "stdout",
     "output_type": "stream",
     "text": [
      "##############################\n",
      "iteration: 0\n",
      "******************************\n",
      "iteration: 0, count: 1\n",
      "Epoch 1/5\n",
      "16383/16383 [==============================] - 59s 4ms/step - loss: 0.0373 - acc: 0.9910\n",
      "Epoch 2/5\n",
      "16383/16383 [==============================] - 51s 3ms/step - loss: 0.0200 - acc: 0.9960\n",
      "Epoch 3/5\n",
      "16383/16383 [==============================] - 51s 3ms/step - loss: 0.0146 - acc: 0.9986\n",
      "Epoch 4/5\n",
      "16383/16383 [==============================] - 50s 3ms/step - loss: 0.0123 - acc: 0.9996\n",
      "Epoch 5/5\n",
      "16383/16383 [==============================] - 50s 3ms/step - loss: 0.0108 - acc: 0.9999\n",
      "******************************\n",
      "******************************\n",
      "iteration: 0, count: 2\n",
      "Epoch 1/5\n",
      "16382/16382 [==============================] - 50s 3ms/step - loss: 0.0378 - acc: 0.9904\n",
      "Epoch 2/5\n",
      "16382/16382 [==============================] - 51s 3ms/step - loss: 0.0191 - acc: 0.9966\n",
      "Epoch 3/5\n",
      "16382/16382 [==============================] - 50s 3ms/step - loss: 0.0148 - acc: 0.9980\n",
      "Epoch 4/5\n",
      " 9344/16382 [================>.............] - ETA: 21s - loss: 0.0112 - acc: 0.9996"
     ]
    }
   ],
   "source": [
    "def train():\n",
    "\n",
    "    batch_size = 1024 * 16\n",
    "    for i in range(5):\n",
    "        if i > 0:\n",
    "            decay_lr(model, 0.7)\n",
    "        print(\"#\"*30)\n",
    "        print('iteration: {}'.format(i))\n",
    "        df = pd.read_csv(fname, iterator=True, low_memory=False)\n",
    "        count = 0\n",
    "        while 1:\n",
    "            try:\n",
    "                cur = df.get_chunk(batch_size)\n",
    "                train_x, train_y = trim_df(cur)\n",
    "                print(\"*\" * 30)\n",
    "                print(\"iteration: {}, count: {}\".format(i, count + 1))\n",
    "                count += 1\n",
    "                model.fit(train_x, train_y, epochs=5)\n",
    "                print(\"*\" * 30)\n",
    "            except StopIteration:\n",
    "                break  \n",
    "#         model.save(\"C:/Users/User/Desktop/temp_400bins_{}.h5\".format(i))\n",
    "        \n",
    "train()"
   ]
  },
  {
   "cell_type": "code",
   "execution_count": 18,
   "metadata": {},
   "outputs": [],
   "source": [
    "model.save('C:/Users/User/Desktop/temp.h5')"
   ]
  },
  {
   "cell_type": "code",
   "execution_count": 11,
   "metadata": {},
   "outputs": [
    {
     "name": "stderr",
     "output_type": "stream",
     "text": [
      "W0214 19:27:09.203066 16168 deprecation.py:323] From c:\\users\\user\\appdata\\local\\programs\\python\\python36\\lib\\site-packages\\tensorflow\\python\\ops\\math_grad.py:1250: add_dispatch_support.<locals>.wrapper (from tensorflow.python.ops.array_ops) is deprecated and will be removed in a future version.\n",
      "Instructions for updating:\n",
      "Use tf.where in 2.0, which has the same broadcast rule as np.where\n"
     ]
    }
   ],
   "source": [
    "# model = load_model(\"C:/Users/User/Desktop/resNet.h5\")"
   ]
  },
  {
   "cell_type": "code",
   "execution_count": 9,
   "metadata": {},
   "outputs": [],
   "source": [
    "val_name = \"C:/Users/User/Desktop/go_download/val_sets_v1.csv\""
   ]
  },
  {
   "cell_type": "code",
   "execution_count": 10,
   "metadata": {},
   "outputs": [],
   "source": [
    "val_df = pd.read_csv(val_name)"
   ]
  },
  {
   "cell_type": "code",
   "execution_count": 11,
   "metadata": {},
   "outputs": [],
   "source": [
    "val_y_name = \"C:/Users/User/Desktop/go_download/val_labels_v1.csv\"\n",
    "val_df_y = pd.read_csv(val_y_name)\n",
    "val_df_x = val_df"
   ]
  },
  {
   "cell_type": "code",
   "execution_count": 12,
   "metadata": {},
   "outputs": [],
   "source": [
    "vx = val_df_x\n",
    "vy = val_df_y"
   ]
  },
  {
   "cell_type": "code",
   "execution_count": 13,
   "metadata": {},
   "outputs": [],
   "source": [
    "vx = vx.iloc[:, :-1].values"
   ]
  },
  {
   "cell_type": "code",
   "execution_count": 14,
   "metadata": {},
   "outputs": [],
   "source": [
    "vy = vy['label'].values\n",
    "vy = encode_names(vy)"
   ]
  },
  {
   "cell_type": "code",
   "execution_count": 15,
   "metadata": {},
   "outputs": [],
   "source": [
    "vx = vx[:, 100:-50]\n",
    "\n",
    "################\n",
    "vx = remove_sharp(vx)\n",
    "# vx = change_zero_to_mean(vx)\n",
    "#################\n",
    "\n",
    "\n",
    "vx = average_bin_faster(vx, 400)\n",
    "vx = vx.reshape(*vx.shape, 1)\n"
   ]
  },
  {
   "cell_type": "code",
   "execution_count": 43,
   "metadata": {},
   "outputs": [
    {
     "name": "stdout",
     "output_type": "stream",
     "text": [
      "finished loading\n"
     ]
    }
   ],
   "source": [
    "model = load_model(\"C:/Users/User/Desktop/temp_400bins_3.h5\")\n",
    "print(\"finished loading\")\n",
    "v_pred = model.predict(vx)"
   ]
  },
  {
   "cell_type": "code",
   "execution_count": 44,
   "metadata": {},
   "outputs": [
    {
     "data": {
      "text/plain": [
       "0.9916012674164848"
      ]
     },
     "execution_count": 44,
     "metadata": {},
     "output_type": "execute_result"
    }
   ],
   "source": [
    "get_precision(vy, v_pred)"
   ]
  },
  {
   "cell_type": "code",
   "execution_count": 45,
   "metadata": {},
   "outputs": [
    {
     "data": {
      "text/plain": [
       "0.968516344172965"
      ]
     },
     "execution_count": 45,
     "metadata": {},
     "output_type": "execute_result"
    }
   ],
   "source": [
    "f1(vy, v_pred)"
   ]
  },
  {
   "cell_type": "code",
   "execution_count": 17,
   "metadata": {},
   "outputs": [],
   "source": [
    "model.save(\"C:/Users/User/Desktop/resNet.h5\", overwrite=True)"
   ]
  },
  {
   "cell_type": "code",
   "execution_count": null,
   "metadata": {},
   "outputs": [],
   "source": []
  },
  {
   "cell_type": "code",
   "execution_count": null,
   "metadata": {},
   "outputs": [],
   "source": []
  },
  {
   "cell_type": "code",
   "execution_count": 277,
   "metadata": {},
   "outputs": [],
   "source": [
    "# for submission "
   ]
  },
  {
   "cell_type": "code",
   "execution_count": 22,
   "metadata": {},
   "outputs": [],
   "source": [
    "v_pred_cls = np.argmax(v_pred, axis=1)"
   ]
  },
  {
   "cell_type": "code",
   "execution_count": 23,
   "metadata": {},
   "outputs": [],
   "source": [
    "val_df_y['pred_cls'] = v_pred_cls"
   ]
  },
  {
   "cell_type": "code",
   "execution_count": 24,
   "metadata": {},
   "outputs": [
    {
     "data": {
      "text/plain": [
       "190624"
      ]
     },
     "execution_count": 24,
     "metadata": {},
     "output_type": "execute_result"
    }
   ],
   "source": [
    "len(val_df_y)"
   ]
  },
  {
   "cell_type": "code",
   "execution_count": 25,
   "metadata": {},
   "outputs": [],
   "source": [
    "def cls_to_name(cls):\n",
    "    if cls == 0:\n",
    "        return 'star'\n",
    "    if cls == 1:\n",
    "        return 'galaxy'\n",
    "    return 'qso'"
   ]
  },
  {
   "cell_type": "code",
   "execution_count": 26,
   "metadata": {},
   "outputs": [],
   "source": [
    "val_df_y['pred_cls'] = val_df_y['pred_cls'].apply(cls_to_name)"
   ]
  },
  {
   "cell_type": "code",
   "execution_count": 27,
   "metadata": {},
   "outputs": [
    {
     "data": {
      "text/plain": [
       "1379"
      ]
     },
     "execution_count": 27,
     "metadata": {},
     "output_type": "execute_result"
    }
   ],
   "source": [
    "len(val_df_y[val_df_y['label']!=val_df_y['pred_cls']])"
   ]
  },
  {
   "cell_type": "code",
   "execution_count": 28,
   "metadata": {},
   "outputs": [
    {
     "data": {
      "text/plain": [
       "(1379, 189245)"
      ]
     },
     "execution_count": 28,
     "metadata": {},
     "output_type": "execute_result"
    }
   ],
   "source": [
    "diff = val_df_y[val_df_y['pred_cls'] != val_df_y['label']]\n",
    "same = val_df_y[val_df_y['pred_cls'] == val_df_y['label']]\n",
    "len(diff), len(same)"
   ]
  },
  {
   "cell_type": "code",
   "execution_count": 29,
   "metadata": {},
   "outputs": [],
   "source": [
    "val_df['pred'] = val_df_y['pred_cls']\n",
    "val_df['label'] = val_df_y['label']"
   ]
  },
  {
   "cell_type": "code",
   "execution_count": 30,
   "metadata": {},
   "outputs": [],
   "source": [
    "diff_spectrum = val_df.loc[val_df['id'].isin(diff['id'])]\n",
    "same_spectrum = val_df.loc[val_df['id'].isin(same['id'])]\n",
    "\n",
    "diff_spectrum = diff_spectrum.drop('id', axis=1)\n",
    "same_spectrum = same_spectrum.drop('id', axis=1)"
   ]
  },
  {
   "cell_type": "code",
   "execution_count": 31,
   "metadata": {},
   "outputs": [
    {
     "data": {
      "text/plain": [
       "(1379, 189245)"
      ]
     },
     "execution_count": 31,
     "metadata": {},
     "output_type": "execute_result"
    }
   ],
   "source": [
    "len(diff_spectrum), len(same_spectrum)"
   ]
  },
  {
   "cell_type": "code",
   "execution_count": 35,
   "metadata": {},
   "outputs": [],
   "source": [
    "same_spectrum_star = same_spectrum[same_spectrum['label']=='star']\n",
    "same_spectrum_gal = same_spectrum[same_spectrum['label']=='galaxy']\n",
    "same_spectrum_qso = same_spectrum[same_spectrum['label']=='qso']"
   ]
  },
  {
   "cell_type": "code",
   "execution_count": 40,
   "metadata": {},
   "outputs": [],
   "source": [
    "res = pd.concat([same_spectrum_star.iloc[:100,:], same_spectrum_gal.iloc[:100,:], \n",
    "                 same_spectrum_qso.iloc[:100,:]])"
   ]
  },
  {
   "cell_type": "code",
   "execution_count": null,
   "metadata": {},
   "outputs": [],
   "source": []
  },
  {
   "cell_type": "code",
   "execution_count": 59,
   "metadata": {},
   "outputs": [],
   "source": [
    "diff_spectrum.to_csv(\"C:/Users/User/Desktop/temp/predict_wrong_spectral.csv\", index=False)"
   ]
  },
  {
   "cell_type": "code",
   "execution_count": 47,
   "metadata": {},
   "outputs": [],
   "source": [
    "res.to_csv(\"C:/Users/User/Desktop/temp/predict_right_spectral.csv\", index=False)"
   ]
  },
  {
   "cell_type": "code",
   "execution_count": 58,
   "metadata": {},
   "outputs": [
    {
     "data": {
      "text/html": [
       "<div>\n",
       "<style scoped>\n",
       "    .dataframe tbody tr th:only-of-type {\n",
       "        vertical-align: middle;\n",
       "    }\n",
       "\n",
       "    .dataframe tbody tr th {\n",
       "        vertical-align: top;\n",
       "    }\n",
       "\n",
       "    .dataframe thead th {\n",
       "        text-align: right;\n",
       "    }\n",
       "</style>\n",
       "<table border=\"1\" class=\"dataframe\">\n",
       "  <thead>\n",
       "    <tr style=\"text-align: right;\">\n",
       "      <th></th>\n",
       "      <th>FE0</th>\n",
       "      <th>FE1</th>\n",
       "      <th>FE2</th>\n",
       "      <th>FE3</th>\n",
       "      <th>FE4</th>\n",
       "      <th>FE5</th>\n",
       "      <th>FE6</th>\n",
       "      <th>FE7</th>\n",
       "      <th>FE8</th>\n",
       "      <th>FE9</th>\n",
       "      <th>...</th>\n",
       "      <th>FE2592</th>\n",
       "      <th>FE2593</th>\n",
       "      <th>FE2594</th>\n",
       "      <th>FE2595</th>\n",
       "      <th>FE2596</th>\n",
       "      <th>FE2597</th>\n",
       "      <th>FE2598</th>\n",
       "      <th>FE2599</th>\n",
       "      <th>pred</th>\n",
       "      <th>label</th>\n",
       "    </tr>\n",
       "  </thead>\n",
       "  <tbody>\n",
       "    <tr>\n",
       "      <th>399</th>\n",
       "      <td>20.539032</td>\n",
       "      <td>-11.496449</td>\n",
       "      <td>20.704480</td>\n",
       "      <td>10.320412</td>\n",
       "      <td>24.132203</td>\n",
       "      <td>-5.339583</td>\n",
       "      <td>18.627630</td>\n",
       "      <td>3.959894</td>\n",
       "      <td>64.945979</td>\n",
       "      <td>9.173379</td>\n",
       "      <td>...</td>\n",
       "      <td>37.511490</td>\n",
       "      <td>34.740448</td>\n",
       "      <td>39.744783</td>\n",
       "      <td>43.466447</td>\n",
       "      <td>36.557037</td>\n",
       "      <td>29.749146</td>\n",
       "      <td>29.873103</td>\n",
       "      <td>28.686555</td>\n",
       "      <td>star</td>\n",
       "      <td>galaxy</td>\n",
       "    </tr>\n",
       "    <tr>\n",
       "      <th>515</th>\n",
       "      <td>4.080163</td>\n",
       "      <td>5.964849</td>\n",
       "      <td>11.200888</td>\n",
       "      <td>-9.123729</td>\n",
       "      <td>-16.047049</td>\n",
       "      <td>-2.116285</td>\n",
       "      <td>11.063445</td>\n",
       "      <td>0.660645</td>\n",
       "      <td>10.570564</td>\n",
       "      <td>16.589804</td>\n",
       "      <td>...</td>\n",
       "      <td>5.467748</td>\n",
       "      <td>6.397606</td>\n",
       "      <td>6.230656</td>\n",
       "      <td>6.257501</td>\n",
       "      <td>5.404189</td>\n",
       "      <td>4.980243</td>\n",
       "      <td>5.226400</td>\n",
       "      <td>5.350140</td>\n",
       "      <td>star</td>\n",
       "      <td>galaxy</td>\n",
       "    </tr>\n",
       "    <tr>\n",
       "      <th>585</th>\n",
       "      <td>-279.087973</td>\n",
       "      <td>-47.678342</td>\n",
       "      <td>-5.105812</td>\n",
       "      <td>198.935923</td>\n",
       "      <td>-151.138377</td>\n",
       "      <td>-36.066876</td>\n",
       "      <td>109.816511</td>\n",
       "      <td>69.809897</td>\n",
       "      <td>91.818532</td>\n",
       "      <td>-236.827852</td>\n",
       "      <td>...</td>\n",
       "      <td>174.588257</td>\n",
       "      <td>120.880636</td>\n",
       "      <td>87.382189</td>\n",
       "      <td>167.457078</td>\n",
       "      <td>185.419524</td>\n",
       "      <td>139.296300</td>\n",
       "      <td>121.636615</td>\n",
       "      <td>100.354468</td>\n",
       "      <td>star</td>\n",
       "      <td>galaxy</td>\n",
       "    </tr>\n",
       "    <tr>\n",
       "      <th>743</th>\n",
       "      <td>2.146430</td>\n",
       "      <td>2.414457</td>\n",
       "      <td>3.285812</td>\n",
       "      <td>0.763399</td>\n",
       "      <td>1.679500</td>\n",
       "      <td>2.431333</td>\n",
       "      <td>-0.577207</td>\n",
       "      <td>2.332459</td>\n",
       "      <td>0.348145</td>\n",
       "      <td>2.006564</td>\n",
       "      <td>...</td>\n",
       "      <td>9.447075</td>\n",
       "      <td>9.702508</td>\n",
       "      <td>9.957942</td>\n",
       "      <td>10.213376</td>\n",
       "      <td>10.468810</td>\n",
       "      <td>10.724243</td>\n",
       "      <td>10.979677</td>\n",
       "      <td>11.235111</td>\n",
       "      <td>qso</td>\n",
       "      <td>galaxy</td>\n",
       "    </tr>\n",
       "    <tr>\n",
       "      <th>824</th>\n",
       "      <td>72.963981</td>\n",
       "      <td>51.649080</td>\n",
       "      <td>56.697270</td>\n",
       "      <td>74.403605</td>\n",
       "      <td>48.042003</td>\n",
       "      <td>87.167193</td>\n",
       "      <td>85.622775</td>\n",
       "      <td>0.637782</td>\n",
       "      <td>106.732244</td>\n",
       "      <td>-21.642268</td>\n",
       "      <td>...</td>\n",
       "      <td>59.193337</td>\n",
       "      <td>55.195674</td>\n",
       "      <td>52.769990</td>\n",
       "      <td>53.114714</td>\n",
       "      <td>53.977462</td>\n",
       "      <td>54.031909</td>\n",
       "      <td>53.538296</td>\n",
       "      <td>56.745403</td>\n",
       "      <td>star</td>\n",
       "      <td>galaxy</td>\n",
       "    </tr>\n",
       "  </tbody>\n",
       "</table>\n",
       "<p>5 rows × 2602 columns</p>\n",
       "</div>"
      ],
      "text/plain": [
       "            FE0        FE1        FE2         FE3         FE4        FE5  \\\n",
       "399   20.539032 -11.496449  20.704480   10.320412   24.132203  -5.339583   \n",
       "515    4.080163   5.964849  11.200888   -9.123729  -16.047049  -2.116285   \n",
       "585 -279.087973 -47.678342  -5.105812  198.935923 -151.138377 -36.066876   \n",
       "743    2.146430   2.414457   3.285812    0.763399    1.679500   2.431333   \n",
       "824   72.963981  51.649080  56.697270   74.403605   48.042003  87.167193   \n",
       "\n",
       "            FE6        FE7         FE8         FE9  ...      FE2592  \\\n",
       "399   18.627630   3.959894   64.945979    9.173379  ...   37.511490   \n",
       "515   11.063445   0.660645   10.570564   16.589804  ...    5.467748   \n",
       "585  109.816511  69.809897   91.818532 -236.827852  ...  174.588257   \n",
       "743   -0.577207   2.332459    0.348145    2.006564  ...    9.447075   \n",
       "824   85.622775   0.637782  106.732244  -21.642268  ...   59.193337   \n",
       "\n",
       "         FE2593     FE2594      FE2595      FE2596      FE2597      FE2598  \\\n",
       "399   34.740448  39.744783   43.466447   36.557037   29.749146   29.873103   \n",
       "515    6.397606   6.230656    6.257501    5.404189    4.980243    5.226400   \n",
       "585  120.880636  87.382189  167.457078  185.419524  139.296300  121.636615   \n",
       "743    9.702508   9.957942   10.213376   10.468810   10.724243   10.979677   \n",
       "824   55.195674  52.769990   53.114714   53.977462   54.031909   53.538296   \n",
       "\n",
       "         FE2599  pred   label  \n",
       "399   28.686555  star  galaxy  \n",
       "515    5.350140  star  galaxy  \n",
       "585  100.354468  star  galaxy  \n",
       "743   11.235111   qso  galaxy  \n",
       "824   56.745403  star  galaxy  \n",
       "\n",
       "[5 rows x 2602 columns]"
      ]
     },
     "execution_count": 58,
     "metadata": {},
     "output_type": "execute_result"
    }
   ],
   "source": [
    "diff_spectrum.head()"
   ]
  },
  {
   "cell_type": "code",
   "execution_count": 77,
   "metadata": {},
   "outputs": [],
   "source": [
    "val_df_y['label'] = val_df_y['pred_cls']"
   ]
  },
  {
   "cell_type": "code",
   "execution_count": 78,
   "metadata": {},
   "outputs": [],
   "source": [
    "val_df_y = val_df_y[['id','label']]"
   ]
  },
  {
   "cell_type": "code",
   "execution_count": 64,
   "metadata": {},
   "outputs": [
    {
     "data": {
      "text/plain": [
       "190624"
      ]
     },
     "execution_count": 64,
     "metadata": {},
     "output_type": "execute_result"
    }
   ],
   "source": []
  },
  {
   "cell_type": "code",
   "execution_count": 79,
   "metadata": {},
   "outputs": [],
   "source": [
    "val_df_y.to_csv(\"C:/Users/User/Desktop/go_download/submit_3 .csv\", index=False)"
   ]
  },
  {
   "cell_type": "code",
   "execution_count": null,
   "metadata": {},
   "outputs": [],
   "source": []
  },
  {
   "cell_type": "code",
   "execution_count": null,
   "metadata": {},
   "outputs": [],
   "source": []
  },
  {
   "cell_type": "code",
   "execution_count": null,
   "metadata": {},
   "outputs": [],
   "source": []
  }
 ],
 "metadata": {
  "kernelspec": {
   "display_name": "Python 3",
   "language": "python",
   "name": "python3"
  },
  "language_info": {
   "codemirror_mode": {
    "name": "ipython",
    "version": 3
   },
   "file_extension": ".py",
   "mimetype": "text/x-python",
   "name": "python",
   "nbconvert_exporter": "python",
   "pygments_lexer": "ipython3",
   "version": "3.6.8"
  }
 },
 "nbformat": 4,
 "nbformat_minor": 2
}
