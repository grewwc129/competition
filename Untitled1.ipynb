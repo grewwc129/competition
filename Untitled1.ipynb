{
 "cells": [
  {
   "cell_type": "code",
   "execution_count": null,
   "metadata": {},
   "outputs": [],
   "source": [
    "import keras \n",
    "import tensorflow as tf \n",
    "from keras.models import *\n",
    "from keras.layers import * \n",
    "import keras.backend as K \n",
    "\n",
    "%load_ext autoreload\n",
    "%autoreload 2"
   ]
  },
  {
   "cell_type": "code",
   "execution_count": null,
   "metadata": {},
   "outputs": [],
   "source": [
    "from data_utils import *\n",
    "from nn_resnet import *\n",
    "from config import config \n",
    "from general_utils import* \n",
    "from assessment import *\n",
    "from maths import *\n",
    "import matplotlib.pyplot as plt \n",
    "\n",
    "fname = 'update_new_columns_trains_sets.csv'"
   ]
  },
  {
   "cell_type": "code",
   "execution_count": null,
   "metadata": {},
   "outputs": [],
   "source": [
    "model = resnet(3, (300, 1))"
   ]
  },
  {
   "cell_type": "code",
   "execution_count": null,
   "metadata": {},
   "outputs": [],
   "source": [
    "def train():\n",
    "\n",
    "    batch_size = 1024\n",
    "    for i in range(10):\n",
    "        print(\"#\"*30)\n",
    "        print('iteration: {}'.format(i))\n",
    "        df = pd.read_csv(fname, iterator=True)\n",
    "        count = 0\n",
    "        while 1:\n",
    "            try:\n",
    "                cur = df.get_chunk(batch_size)\n",
    "                train_x, train_y = trim_df(cur)\n",
    "                print(\"*\" * 30)\n",
    "                print(\"iteration: {}, count: {}\".format(i, count + 1))\n",
    "                count += 1\n",
    "                model.fit(train_x, train_y, epochs=10, validation_split=0.05)\n",
    "                print(\"*\" * 30)\n",
    "            except StopIteration:\n",
    "                break \n",
    "                \n",
    "train()"
   ]
  },
  {
   "cell_type": "code",
   "execution_count": null,
   "metadata": {},
   "outputs": [],
   "source": []
  },
  {
   "cell_type": "code",
   "execution_count": null,
   "metadata": {},
   "outputs": [],
   "source": []
  },
  {
   "cell_type": "code",
   "execution_count": null,
   "metadata": {},
   "outputs": [],
   "source": []
  }
 ],
 "metadata": {
  "kernelspec": {
   "display_name": "Python 3",
   "language": "python",
   "name": "python3"
  },
  "language_info": {
   "codemirror_mode": {
    "name": "ipython",
    "version": 3
   },
   "file_extension": ".py",
   "mimetype": "text/x-python",
   "name": "python",
   "nbconvert_exporter": "python",
   "pygments_lexer": "ipython3",
   "version": "3.6.8"
  }
 },
 "nbformat": 4,
 "nbformat_minor": 2
}
